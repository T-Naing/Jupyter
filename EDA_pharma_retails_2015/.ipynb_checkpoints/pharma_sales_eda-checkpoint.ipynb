{
 "cells": [
  {
   "cell_type": "markdown",
   "id": "12ed9b11-467c-4cef-869a-c4ccf1715c1d",
   "metadata": {},
   "source": [
    "# EDA on Pharmaceutical Retails Sales in 2015\n",
    "## Dataset\n",
    "In this analysis, we will explore the [pharma_sales_product_2015](https://www.kaggle.com/datasets/tigernaing/pharmaceutical-retails-sales-2015/data) dataset available on Kaggle. Specifically, we will examine the following aspects:\n",
    "\n",
    "Risk of Expiry: Assessing the potential risk of products nearing their expiration date.\n",
    "\n",
    "Product with the Highest Frequency of Sales: Identifying the product that is sold most frequently.\n",
    "\n",
    "Product with the Highest Quantity Sold: Determining the product with the highest total quantity sold.\n",
    "\n",
    "Sales Frequency by Weekday: Analyzing how sales vary across different weekdays.\n",
    "\n",
    "Sales Frequency by Month: Investigating the monthly sales patterns."
   ]
  },
  {
   "cell_type": "code",
   "execution_count": 231,
   "id": "30199c3d-58ee-4317-a440-c7d2bf4aeb10",
   "metadata": {},
   "outputs": [],
   "source": [
    "import os "
   ]
  },
  {
   "cell_type": "code",
   "execution_count": 232,
   "id": "83f996af-58c9-42c1-a0f2-ba2a01779945",
   "metadata": {},
   "outputs": [
    {
     "data": {
      "text/plain": [
       "'C:\\\\Users\\\\ttnla\\\\Downloads\\\\pharmaceutical_retails'"
      ]
     },
     "execution_count": 232,
     "metadata": {},
     "output_type": "execute_result"
    }
   ],
   "source": [
    "os.getcwd()"
   ]
  },
  {
   "cell_type": "code",
   "execution_count": 233,
   "id": "00fb3472-b584-4877-bb46-98bc526d47d5",
   "metadata": {},
   "outputs": [
    {
     "data": {
      "text/plain": [
       "['.ipynb_checkpoints', 'pharma.ipynb', 'pharma_sales_product_2015.csv']"
      ]
     },
     "execution_count": 233,
     "metadata": {},
     "output_type": "execute_result"
    }
   ],
   "source": [
    "os.listdir('C:\\\\Users\\\\ttnla\\\\Downloads\\\\pharmaceutical_retails')"
   ]
  },
  {
   "cell_type": "code",
   "execution_count": 234,
   "id": "d91e4000-db49-4299-afff-641db5e16a60",
   "metadata": {},
   "outputs": [],
   "source": [
    "import pandas as pd"
   ]
  },
  {
   "cell_type": "code",
   "execution_count": 235,
   "id": "0efe30ce-3fa9-4ffd-bb2f-bf227e509508",
   "metadata": {},
   "outputs": [],
   "source": [
    "pharma_df=pd.read_csv('./pharma_sales_product_2015.csv')"
   ]
  },
  {
   "cell_type": "code",
   "execution_count": 236,
   "id": "85ec533d-a044-4842-ad91-12c0453546c1",
   "metadata": {},
   "outputs": [
    {
     "name": "stdout",
     "output_type": "stream",
     "text": [
      "<class 'pandas.core.frame.DataFrame'>\n",
      "RangeIndex: 22800 entries, 0 to 22799\n",
      "Data columns (total 8 columns):\n",
      " #   Column        Non-Null Count  Dtype \n",
      "---  ------        --------------  ----- \n",
      " 0   InvoiceNo     22800 non-null  int64 \n",
      " 1   InvoiceDate   22800 non-null  object\n",
      " 2   ProductNo     22800 non-null  int64 \n",
      " 3   Quantity      22800 non-null  int64 \n",
      " 4   Unit          22800 non-null  object\n",
      " 5   ProductName   22800 non-null  object\n",
      " 6   PackSize      22800 non-null  object\n",
      " 7   ChemicalName  22800 non-null  object\n",
      "dtypes: int64(3), object(5)\n",
      "memory usage: 1.4+ MB\n"
     ]
    }
   ],
   "source": [
    "pharma_df.info()"
   ]
  },
  {
   "cell_type": "code",
   "execution_count": 237,
   "id": "12234006-2e47-4b29-b064-4b30c6a15667",
   "metadata": {},
   "outputs": [
    {
     "data": {
      "text/html": [
       "<div>\n",
       "<style scoped>\n",
       "    .dataframe tbody tr th:only-of-type {\n",
       "        vertical-align: middle;\n",
       "    }\n",
       "\n",
       "    .dataframe tbody tr th {\n",
       "        vertical-align: top;\n",
       "    }\n",
       "\n",
       "    .dataframe thead th {\n",
       "        text-align: right;\n",
       "    }\n",
       "</style>\n",
       "<table border=\"1\" class=\"dataframe\">\n",
       "  <thead>\n",
       "    <tr style=\"text-align: right;\">\n",
       "      <th></th>\n",
       "      <th>InvoiceNo</th>\n",
       "      <th>ProductNo</th>\n",
       "      <th>Quantity</th>\n",
       "    </tr>\n",
       "  </thead>\n",
       "  <tbody>\n",
       "    <tr>\n",
       "      <th>count</th>\n",
       "      <td>22800.000000</td>\n",
       "      <td>22800.000000</td>\n",
       "      <td>22800.000000</td>\n",
       "    </tr>\n",
       "    <tr>\n",
       "      <th>mean</th>\n",
       "      <td>1390.206930</td>\n",
       "      <td>344.387544</td>\n",
       "      <td>3.067982</td>\n",
       "    </tr>\n",
       "    <tr>\n",
       "      <th>std</th>\n",
       "      <td>815.208128</td>\n",
       "      <td>240.861419</td>\n",
       "      <td>12.369806</td>\n",
       "    </tr>\n",
       "    <tr>\n",
       "      <th>min</th>\n",
       "      <td>1.000000</td>\n",
       "      <td>1.000000</td>\n",
       "      <td>1.000000</td>\n",
       "    </tr>\n",
       "    <tr>\n",
       "      <th>25%</th>\n",
       "      <td>706.000000</td>\n",
       "      <td>142.000000</td>\n",
       "      <td>1.000000</td>\n",
       "    </tr>\n",
       "    <tr>\n",
       "      <th>50%</th>\n",
       "      <td>1266.000000</td>\n",
       "      <td>304.000000</td>\n",
       "      <td>1.000000</td>\n",
       "    </tr>\n",
       "    <tr>\n",
       "      <th>75%</th>\n",
       "      <td>2076.250000</td>\n",
       "      <td>531.000000</td>\n",
       "      <td>2.000000</td>\n",
       "    </tr>\n",
       "    <tr>\n",
       "      <th>max</th>\n",
       "      <td>2962.000000</td>\n",
       "      <td>954.000000</td>\n",
       "      <td>972.000000</td>\n",
       "    </tr>\n",
       "  </tbody>\n",
       "</table>\n",
       "</div>"
      ],
      "text/plain": [
       "          InvoiceNo     ProductNo      Quantity\n",
       "count  22800.000000  22800.000000  22800.000000\n",
       "mean    1390.206930    344.387544      3.067982\n",
       "std      815.208128    240.861419     12.369806\n",
       "min        1.000000      1.000000      1.000000\n",
       "25%      706.000000    142.000000      1.000000\n",
       "50%     1266.000000    304.000000      1.000000\n",
       "75%     2076.250000    531.000000      2.000000\n",
       "max     2962.000000    954.000000    972.000000"
      ]
     },
     "execution_count": 237,
     "metadata": {},
     "output_type": "execute_result"
    }
   ],
   "source": [
    "pharma_df.describe()"
   ]
  },
  {
   "cell_type": "markdown",
   "id": "e2762e99-3633-4971-9ee8-12f9a29dfab4",
   "metadata": {},
   "source": [
    "### Data\n",
    "The dataset comprises 8 columns and contains information about product sales, including InvoiceNo, InvoiceDate, Quantity, and other product details. It consists of 22,800 records."
   ]
  },
  {
   "cell_type": "code",
   "execution_count": 238,
   "id": "7e71770e-7375-4808-9c19-fd962bab9c10",
   "metadata": {},
   "outputs": [
    {
     "data": {
      "text/html": [
       "<div>\n",
       "<style scoped>\n",
       "    .dataframe tbody tr th:only-of-type {\n",
       "        vertical-align: middle;\n",
       "    }\n",
       "\n",
       "    .dataframe tbody tr th {\n",
       "        vertical-align: top;\n",
       "    }\n",
       "\n",
       "    .dataframe thead th {\n",
       "        text-align: right;\n",
       "    }\n",
       "</style>\n",
       "<table border=\"1\" class=\"dataframe\">\n",
       "  <thead>\n",
       "    <tr style=\"text-align: right;\">\n",
       "      <th></th>\n",
       "      <th>InvoiceNo</th>\n",
       "      <th>InvoiceDate</th>\n",
       "      <th>ProductNo</th>\n",
       "      <th>Quantity</th>\n",
       "      <th>Unit</th>\n",
       "      <th>ProductName</th>\n",
       "      <th>PackSize</th>\n",
       "      <th>ChemicalName</th>\n",
       "    </tr>\n",
       "  </thead>\n",
       "  <tbody>\n",
       "    <tr>\n",
       "      <th>10264</th>\n",
       "      <td>1163</td>\n",
       "      <td>03/6/2015</td>\n",
       "      <td>151</td>\n",
       "      <td>7</td>\n",
       "      <td>stp</td>\n",
       "      <td>Gluco M</td>\n",
       "      <td>10 tab * 50 stp * box</td>\n",
       "      <td>Metformin</td>\n",
       "    </tr>\n",
       "    <tr>\n",
       "      <th>21124</th>\n",
       "      <td>2701</td>\n",
       "      <td>02/12/2015</td>\n",
       "      <td>304</td>\n",
       "      <td>1</td>\n",
       "      <td>stp</td>\n",
       "      <td>Allercet</td>\n",
       "      <td>10 tab * 10 stp * box</td>\n",
       "      <td>Cetrizine</td>\n",
       "    </tr>\n",
       "    <tr>\n",
       "      <th>9978</th>\n",
       "      <td>1134</td>\n",
       "      <td>28/5/2015</td>\n",
       "      <td>294</td>\n",
       "      <td>2</td>\n",
       "      <td>stp</td>\n",
       "      <td>Duragesic</td>\n",
       "      <td>10 tab * 10 stp * box</td>\n",
       "      <td>Orphenadrine and Paracetamol</td>\n",
       "    </tr>\n",
       "    <tr>\n",
       "      <th>8371</th>\n",
       "      <td>959</td>\n",
       "      <td>04/5/2015</td>\n",
       "      <td>356</td>\n",
       "      <td>4</td>\n",
       "      <td>tab</td>\n",
       "      <td>Strepsil Vit C</td>\n",
       "      <td>6 tab * 4 stp * box</td>\n",
       "      <td>Lozenges</td>\n",
       "    </tr>\n",
       "    <tr>\n",
       "      <th>15479</th>\n",
       "      <td>1859</td>\n",
       "      <td>25/8/2015</td>\n",
       "      <td>721</td>\n",
       "      <td>1</td>\n",
       "      <td>stp</td>\n",
       "      <td>Velactone</td>\n",
       "      <td>10 tab * 10 stp * box</td>\n",
       "      <td>Spironolactone</td>\n",
       "    </tr>\n",
       "  </tbody>\n",
       "</table>\n",
       "</div>"
      ],
      "text/plain": [
       "       InvoiceNo InvoiceDate  ProductNo  Quantity Unit     ProductName  \\\n",
       "10264       1163   03/6/2015        151         7  stp         Gluco M   \n",
       "21124       2701  02/12/2015        304         1  stp        Allercet   \n",
       "9978        1134   28/5/2015        294         2  stp      Duragesic    \n",
       "8371         959   04/5/2015        356         4  tab  Strepsil Vit C   \n",
       "15479       1859   25/8/2015        721         1  stp       Velactone   \n",
       "\n",
       "                    PackSize                  ChemicalName  \n",
       "10264  10 tab * 50 stp * box                     Metformin  \n",
       "21124  10 tab * 10 stp * box                     Cetrizine  \n",
       "9978   10 tab * 10 stp * box  Orphenadrine and Paracetamol  \n",
       "8371     6 tab * 4 stp * box                      Lozenges  \n",
       "15479  10 tab * 10 stp * box                Spironolactone  "
      ]
     },
     "execution_count": 238,
     "metadata": {},
     "output_type": "execute_result"
    }
   ],
   "source": [
    "pharma_df.sample(5)"
   ]
  },
  {
   "cell_type": "code",
   "execution_count": 239,
   "id": "d370fae4-b3ef-4d2b-a64e-9095918cf2ec",
   "metadata": {},
   "outputs": [
    {
     "data": {
      "text/html": [
       "<div>\n",
       "<style scoped>\n",
       "    .dataframe tbody tr th:only-of-type {\n",
       "        vertical-align: middle;\n",
       "    }\n",
       "\n",
       "    .dataframe tbody tr th {\n",
       "        vertical-align: top;\n",
       "    }\n",
       "\n",
       "    .dataframe thead th {\n",
       "        text-align: right;\n",
       "    }\n",
       "</style>\n",
       "<table border=\"1\" class=\"dataframe\">\n",
       "  <thead>\n",
       "    <tr style=\"text-align: right;\">\n",
       "      <th></th>\n",
       "      <th>InvoiceNo</th>\n",
       "      <th>InvoiceDate</th>\n",
       "      <th>ProductNo</th>\n",
       "      <th>Quantity</th>\n",
       "      <th>Unit</th>\n",
       "      <th>ProductName</th>\n",
       "      <th>PackSize</th>\n",
       "      <th>ChemicalName</th>\n",
       "    </tr>\n",
       "  </thead>\n",
       "  <tbody>\n",
       "    <tr>\n",
       "      <th>2791</th>\n",
       "      <td>428</td>\n",
       "      <td>14/2/2015</td>\n",
       "      <td>256</td>\n",
       "      <td>1</td>\n",
       "      <td>stp</td>\n",
       "      <td>Alaxan Tab</td>\n",
       "      <td>10 tab * 10 stp * box</td>\n",
       "      <td>Ibuprofen and Paracetamol</td>\n",
       "    </tr>\n",
       "    <tr>\n",
       "      <th>5977</th>\n",
       "      <td>723</td>\n",
       "      <td>30/3/2015</td>\n",
       "      <td>471</td>\n",
       "      <td>1</td>\n",
       "      <td>pack</td>\n",
       "      <td>????? ???????</td>\n",
       "      <td>10 sac * pack</td>\n",
       "      <td>Myanmar Cough Medicine</td>\n",
       "    </tr>\n",
       "    <tr>\n",
       "      <th>4841</th>\n",
       "      <td>621</td>\n",
       "      <td>12/3/2015</td>\n",
       "      <td>445</td>\n",
       "      <td>1</td>\n",
       "      <td>bot</td>\n",
       "      <td>?????????</td>\n",
       "      <td>12 bot * dz</td>\n",
       "      <td>Myanmar Balm</td>\n",
       "    </tr>\n",
       "    <tr>\n",
       "      <th>20345</th>\n",
       "      <td>2583</td>\n",
       "      <td>19/11/2015</td>\n",
       "      <td>133</td>\n",
       "      <td>2</td>\n",
       "      <td>stp</td>\n",
       "      <td>Aldactone Pfizer</td>\n",
       "      <td>10 tab * 10 stp * box</td>\n",
       "      <td>Spironolactone</td>\n",
       "    </tr>\n",
       "    <tr>\n",
       "      <th>9464</th>\n",
       "      <td>1077</td>\n",
       "      <td>21/5/2015</td>\n",
       "      <td>736</td>\n",
       "      <td>10</td>\n",
       "      <td>sac</td>\n",
       "      <td>Shudi Analgesic Plaster</td>\n",
       "      <td>4 pcs * 100 sac * box</td>\n",
       "      <td>Plaster</td>\n",
       "    </tr>\n",
       "  </tbody>\n",
       "</table>\n",
       "</div>"
      ],
      "text/plain": [
       "       InvoiceNo InvoiceDate  ProductNo  Quantity  Unit  \\\n",
       "2791         428   14/2/2015        256         1   stp   \n",
       "5977         723   30/3/2015        471         1  pack   \n",
       "4841         621   12/3/2015        445         1   bot   \n",
       "20345       2583  19/11/2015        133         2   stp   \n",
       "9464        1077   21/5/2015        736        10   sac   \n",
       "\n",
       "                   ProductName               PackSize  \\\n",
       "2791                Alaxan Tab  10 tab * 10 stp * box   \n",
       "5977             ????? ???????          10 sac * pack   \n",
       "4841                 ?????????            12 bot * dz   \n",
       "20345         Aldactone Pfizer  10 tab * 10 stp * box   \n",
       "9464   Shudi Analgesic Plaster  4 pcs * 100 sac * box   \n",
       "\n",
       "                    ChemicalName  \n",
       "2791   Ibuprofen and Paracetamol  \n",
       "5977      Myanmar Cough Medicine  \n",
       "4841                Myanmar Balm  \n",
       "20345             Spironolactone  \n",
       "9464                     Plaster  "
      ]
     },
     "execution_count": 239,
     "metadata": {},
     "output_type": "execute_result"
    }
   ],
   "source": [
    "pharma_df.sample(5)"
   ]
  },
  {
   "cell_type": "code",
   "execution_count": 240,
   "id": "d379194e-2587-4fd5-a876-e1d87304e3f7",
   "metadata": {},
   "outputs": [
    {
     "data": {
      "text/html": [
       "<div>\n",
       "<style scoped>\n",
       "    .dataframe tbody tr th:only-of-type {\n",
       "        vertical-align: middle;\n",
       "    }\n",
       "\n",
       "    .dataframe tbody tr th {\n",
       "        vertical-align: top;\n",
       "    }\n",
       "\n",
       "    .dataframe thead th {\n",
       "        text-align: right;\n",
       "    }\n",
       "</style>\n",
       "<table border=\"1\" class=\"dataframe\">\n",
       "  <thead>\n",
       "    <tr style=\"text-align: right;\">\n",
       "      <th></th>\n",
       "      <th>InvoiceNo</th>\n",
       "      <th>InvoiceDate</th>\n",
       "      <th>ProductNo</th>\n",
       "      <th>Quantity</th>\n",
       "      <th>Unit</th>\n",
       "      <th>ProductName</th>\n",
       "      <th>PackSize</th>\n",
       "      <th>ChemicalName</th>\n",
       "    </tr>\n",
       "  </thead>\n",
       "  <tbody>\n",
       "    <tr>\n",
       "      <th>0</th>\n",
       "      <td>1</td>\n",
       "      <td>01/1/2015</td>\n",
       "      <td>338</td>\n",
       "      <td>1</td>\n",
       "      <td>bot</td>\n",
       "      <td>Optimol</td>\n",
       "      <td>bot</td>\n",
       "      <td>Eye Drop</td>\n",
       "    </tr>\n",
       "    <tr>\n",
       "      <th>1</th>\n",
       "      <td>1</td>\n",
       "      <td>01/1/2015</td>\n",
       "      <td>16</td>\n",
       "      <td>1</td>\n",
       "      <td>stp</td>\n",
       "      <td>Nutrivita</td>\n",
       "      <td>10 cap * 5 stp * box</td>\n",
       "      <td>Multivitamins and Minerals</td>\n",
       "    </tr>\n",
       "    <tr>\n",
       "      <th>2</th>\n",
       "      <td>1</td>\n",
       "      <td>01/1/2015</td>\n",
       "      <td>388</td>\n",
       "      <td>1</td>\n",
       "      <td>bot</td>\n",
       "      <td>????????? ?????? ???</td>\n",
       "      <td>6 bot * 2 pack * dz</td>\n",
       "      <td>Myanmar Digestive</td>\n",
       "    </tr>\n",
       "    <tr>\n",
       "      <th>3</th>\n",
       "      <td>1</td>\n",
       "      <td>01/1/2015</td>\n",
       "      <td>354</td>\n",
       "      <td>2</td>\n",
       "      <td>pcs</td>\n",
       "      <td>Urgo Plaster Transparent</td>\n",
       "      <td>100 pcs * box</td>\n",
       "      <td>Plaster</td>\n",
       "    </tr>\n",
       "    <tr>\n",
       "      <th>4</th>\n",
       "      <td>1</td>\n",
       "      <td>01/1/2015</td>\n",
       "      <td>74</td>\n",
       "      <td>1</td>\n",
       "      <td>stp</td>\n",
       "      <td>Oramin G</td>\n",
       "      <td>5 cap * 6 stp * box</td>\n",
       "      <td>Multivitamins and Minerals</td>\n",
       "    </tr>\n",
       "  </tbody>\n",
       "</table>\n",
       "</div>"
      ],
      "text/plain": [
       "   InvoiceNo InvoiceDate  ProductNo  Quantity Unit               ProductName  \\\n",
       "0          1   01/1/2015        338         1  bot                   Optimol   \n",
       "1          1   01/1/2015         16         1  stp                Nutrivita    \n",
       "2          1   01/1/2015        388         1  bot      ????????? ?????? ???   \n",
       "3          1   01/1/2015        354         2  pcs  Urgo Plaster Transparent   \n",
       "4          1   01/1/2015         74         1  stp                  Oramin G   \n",
       "\n",
       "               PackSize                ChemicalName  \n",
       "0                   bot                    Eye Drop  \n",
       "1  10 cap * 5 stp * box  Multivitamins and Minerals  \n",
       "2   6 bot * 2 pack * dz           Myanmar Digestive  \n",
       "3         100 pcs * box                     Plaster  \n",
       "4   5 cap * 6 stp * box  Multivitamins and Minerals  "
      ]
     },
     "execution_count": 240,
     "metadata": {},
     "output_type": "execute_result"
    }
   ],
   "source": [
    "pharma_df.head()"
   ]
  },
  {
   "cell_type": "code",
   "execution_count": 241,
   "id": "a4c27fad-a34f-4731-be3d-437f1dcfe357",
   "metadata": {},
   "outputs": [
    {
     "data": {
      "text/html": [
       "<div>\n",
       "<style scoped>\n",
       "    .dataframe tbody tr th:only-of-type {\n",
       "        vertical-align: middle;\n",
       "    }\n",
       "\n",
       "    .dataframe tbody tr th {\n",
       "        vertical-align: top;\n",
       "    }\n",
       "\n",
       "    .dataframe thead th {\n",
       "        text-align: right;\n",
       "    }\n",
       "</style>\n",
       "<table border=\"1\" class=\"dataframe\">\n",
       "  <thead>\n",
       "    <tr style=\"text-align: right;\">\n",
       "      <th></th>\n",
       "      <th>InvoiceNo</th>\n",
       "      <th>InvoiceDate</th>\n",
       "      <th>ProductNo</th>\n",
       "      <th>Quantity</th>\n",
       "      <th>Unit</th>\n",
       "      <th>ProductName</th>\n",
       "      <th>PackSize</th>\n",
       "      <th>ChemicalName</th>\n",
       "    </tr>\n",
       "  </thead>\n",
       "  <tbody>\n",
       "    <tr>\n",
       "      <th>22795</th>\n",
       "      <td>2960</td>\n",
       "      <td>31/12/2015</td>\n",
       "      <td>311</td>\n",
       "      <td>1</td>\n",
       "      <td>sac</td>\n",
       "      <td>Konimag</td>\n",
       "      <td>30 sac * box</td>\n",
       "      <td>Aluminium Hydroxide</td>\n",
       "    </tr>\n",
       "    <tr>\n",
       "      <th>22796</th>\n",
       "      <td>2960</td>\n",
       "      <td>31/12/2015</td>\n",
       "      <td>801</td>\n",
       "      <td>1</td>\n",
       "      <td>box</td>\n",
       "      <td>Azines 250</td>\n",
       "      <td>6 tab * box</td>\n",
       "      <td>Azithromycin</td>\n",
       "    </tr>\n",
       "    <tr>\n",
       "      <th>22797</th>\n",
       "      <td>2960</td>\n",
       "      <td>31/12/2015</td>\n",
       "      <td>213</td>\n",
       "      <td>1</td>\n",
       "      <td>stp</td>\n",
       "      <td>Decolgen Forte</td>\n",
       "      <td>10 tab * 10 stp * box</td>\n",
       "      <td>Acetaminophen</td>\n",
       "    </tr>\n",
       "    <tr>\n",
       "      <th>22798</th>\n",
       "      <td>2960</td>\n",
       "      <td>31/12/2015</td>\n",
       "      <td>764</td>\n",
       "      <td>1</td>\n",
       "      <td>bot</td>\n",
       "      <td>Provimin</td>\n",
       "      <td>bot</td>\n",
       "      <td>Spirulina</td>\n",
       "    </tr>\n",
       "    <tr>\n",
       "      <th>22799</th>\n",
       "      <td>2960</td>\n",
       "      <td>31/12/2015</td>\n",
       "      <td>504</td>\n",
       "      <td>2</td>\n",
       "      <td>bot</td>\n",
       "      <td>Heptopep 200ml</td>\n",
       "      <td>bot</td>\n",
       "      <td>Appetite</td>\n",
       "    </tr>\n",
       "  </tbody>\n",
       "</table>\n",
       "</div>"
      ],
      "text/plain": [
       "       InvoiceNo InvoiceDate  ProductNo  Quantity Unit     ProductName  \\\n",
       "22795       2960  31/12/2015        311         1  sac         Konimag   \n",
       "22796       2960  31/12/2015        801         1  box      Azines 250   \n",
       "22797       2960  31/12/2015        213         1  stp  Decolgen Forte   \n",
       "22798       2960  31/12/2015        764         1  bot        Provimin   \n",
       "22799       2960  31/12/2015        504         2  bot  Heptopep 200ml   \n",
       "\n",
       "                    PackSize         ChemicalName  \n",
       "22795           30 sac * box  Aluminium Hydroxide  \n",
       "22796            6 tab * box         Azithromycin  \n",
       "22797  10 tab * 10 stp * box        Acetaminophen  \n",
       "22798                    bot            Spirulina  \n",
       "22799                    bot             Appetite  "
      ]
     },
     "execution_count": 241,
     "metadata": {},
     "output_type": "execute_result"
    }
   ],
   "source": [
    "pharma_df.tail()"
   ]
  },
  {
   "cell_type": "code",
   "execution_count": 242,
   "id": "9464612a-6a0c-4471-8fd6-c1594868cf55",
   "metadata": {},
   "outputs": [
    {
     "data": {
      "text/plain": [
       "873"
      ]
     },
     "execution_count": 242,
     "metadata": {},
     "output_type": "execute_result"
    }
   ],
   "source": [
    "pharma_df.ProductNo.nunique()"
   ]
  },
  {
   "cell_type": "code",
   "execution_count": 243,
   "id": "0e54b087-c88f-4985-988f-e779783be4e2",
   "metadata": {},
   "outputs": [],
   "source": [
    "# len(pharma_df.ProductNo.value_counts())"
   ]
  },
  {
   "cell_type": "code",
   "execution_count": 244,
   "id": "c48b90c9-4780-45c2-8dc6-22323c9793a6",
   "metadata": {},
   "outputs": [],
   "source": [
    "# pharma_df.ProductNo.value_counts()"
   ]
  },
  {
   "cell_type": "markdown",
   "id": "249fb4e6-d5dc-45ce-95e7-71518a036fdf",
   "metadata": {},
   "source": [
    ">The dataset contains sales data from January 1, 2015, to December 31, 2015. A total of 873 products were sold during this period."
   ]
  },
  {
   "cell_type": "markdown",
   "id": "22eb53ad-b618-41de-9595-7123a7bd0081",
   "metadata": {},
   "source": [
    "### Unit Conversion \n",
    "Before analyzing the data, we will transform the sales 'Quantity' and 'Unit' into the most frequently used sales unit and calculate the corresponding quantity."
   ]
  },
  {
   "cell_type": "code",
   "execution_count": 245,
   "id": "64f15673-4623-47a2-9333-be1021efb278",
   "metadata": {},
   "outputs": [],
   "source": [
    "def conversion_table(pack):\n",
    "    conversions=pack.split('*')\n",
    "    conversions[-1]='1'+conversions[-1]\n",
    "    conversion_table=[]\n",
    "\n",
    "    for conversion in conversions:\n",
    "        q,u=conversion.strip().split()\n",
    "        conversion_table.append((int(q),u))\n",
    "    \n",
    "    return conversion_table"
   ]
  },
  {
   "cell_type": "code",
   "execution_count": 246,
   "id": "29a2c495-a607-4ea4-8611-54181d03a9fc",
   "metadata": {},
   "outputs": [],
   "source": [
    "def get_index(conversion_table,from_unit,to_unit):\n",
    "    from_i=to_i=-1\n",
    "    for i, item in enumerate(conversion_table):\n",
    "        if item[1]==from_unit:\n",
    "            from_i=i\n",
    "        elif item[1]==to_unit:\n",
    "            to_i=i\n",
    "    return from_i, to_i"
   ]
  },
  {
   "cell_type": "code",
   "execution_count": 247,
   "id": "dd720fe3-36bf-4b87-a381-e5d2fa222a88",
   "metadata": {},
   "outputs": [],
   "source": [
    "def convert(qty,from_unit,to_unit,pack):\n",
    "    table=conversion_table(pack)\n",
    "    from_index, to_index= get_index(table,from_unit,to_unit)\n",
    "    \n",
    "    if from_index !=-1 and to_index!=-1 :        \n",
    "        if from_index>to_index:\n",
    "            # print('big to small')\n",
    "            for j in table[to_index:from_index]:\n",
    "                qty=qty*j[0]\n",
    "            return_unit=table[to_index][1] \n",
    "        elif from_index<to_index:\n",
    "            # print('small to big')\n",
    "            for j in table[from_index:to_index]:\n",
    "                qty=qty/j[0]       \n",
    "            return_unit=table[to_index][1]\n",
    "    else:\n",
    "        return_unit=from_unit            \n",
    "    return qty,return_unit"
   ]
  },
  {
   "cell_type": "code",
   "execution_count": 248,
   "id": "f3275ccd-3f20-4590-aa35-a827873f925c",
   "metadata": {},
   "outputs": [
    {
     "data": {
      "text/plain": [
       "[(20, 'tab'), (5, 'stp'), (1, 'box')]"
      ]
     },
     "execution_count": 248,
     "metadata": {},
     "output_type": "execute_result"
    }
   ],
   "source": [
    "conversion_table('20 tab * 5 stp * box')"
   ]
  },
  {
   "cell_type": "code",
   "execution_count": 249,
   "id": "8b1c2a08-3389-4c07-b14d-18ad28776ed4",
   "metadata": {},
   "outputs": [
    {
     "data": {
      "text/plain": [
       "(2, 0)"
      ]
     },
     "execution_count": 249,
     "metadata": {},
     "output_type": "execute_result"
    }
   ],
   "source": [
    "get_index (conversion_table('20 tab * 5 stp * box'), 'box', 'tab')"
   ]
  },
  {
   "cell_type": "code",
   "execution_count": 250,
   "id": "16ea09f3-8ded-47fb-9ce4-1f4fb2499bc5",
   "metadata": {},
   "outputs": [
    {
     "data": {
      "text/plain": [
       "(5000, 'tab')"
      ]
     },
     "execution_count": 250,
     "metadata": {},
     "output_type": "execute_result"
    }
   ],
   "source": [
    "convert(50,'box', 'tab','20 tab * 5 stp * box')"
   ]
  },
  {
   "cell_type": "code",
   "execution_count": 300,
   "id": "e510b609-37c4-41cf-8c00-20dac60b729a",
   "metadata": {},
   "outputs": [
    {
     "data": {
      "text/plain": [
       "(0.5, 'box')"
      ]
     },
     "execution_count": 300,
     "metadata": {},
     "output_type": "execute_result"
    }
   ],
   "source": [
    "convert(50,'tab', 'box','20 tab * 5 stp * box')"
   ]
  },
  {
   "cell_type": "code",
   "execution_count": 302,
   "id": "dc0c0abc-079e-4ef3-b7be-3a92ad5e280d",
   "metadata": {},
   "outputs": [
    {
     "data": {
      "text/plain": [
       "'box'"
      ]
     },
     "execution_count": 302,
     "metadata": {},
     "output_type": "execute_result"
    }
   ],
   "source": [
    "conversion_table('20 tab * 5 stp * box')[-1][-1]"
   ]
  },
  {
   "cell_type": "code",
   "execution_count": null,
   "id": "754a51df-6779-4df9-9d42-c64047adedcf",
   "metadata": {},
   "outputs": [],
   "source": []
  },
  {
   "cell_type": "code",
   "execution_count": null,
   "id": "a47d3d75-c073-47f5-b886-9f5190095f1d",
   "metadata": {},
   "outputs": [],
   "source": []
  },
  {
   "cell_type": "code",
   "execution_count": 251,
   "id": "32bf2b16-a33d-4241-abb7-881afaf45461",
   "metadata": {},
   "outputs": [
    {
     "data": {
      "text/html": [
       "<div>\n",
       "<style scoped>\n",
       "    .dataframe tbody tr th:only-of-type {\n",
       "        vertical-align: middle;\n",
       "    }\n",
       "\n",
       "    .dataframe tbody tr th {\n",
       "        vertical-align: top;\n",
       "    }\n",
       "\n",
       "    .dataframe thead th {\n",
       "        text-align: right;\n",
       "    }\n",
       "</style>\n",
       "<table border=\"1\" class=\"dataframe\">\n",
       "  <thead>\n",
       "    <tr style=\"text-align: right;\">\n",
       "      <th></th>\n",
       "      <th>ProductNo</th>\n",
       "      <th>Unit</th>\n",
       "      <th>ProductName</th>\n",
       "      <th>PackSize</th>\n",
       "      <th>Quantity</th>\n",
       "      <th>InvoiceCount</th>\n",
       "    </tr>\n",
       "  </thead>\n",
       "  <tbody>\n",
       "    <tr>\n",
       "      <th>0</th>\n",
       "      <td>1</td>\n",
       "      <td>box</td>\n",
       "      <td>EVE</td>\n",
       "      <td>10 cap * 3 stp * box</td>\n",
       "      <td>1</td>\n",
       "      <td>1</td>\n",
       "    </tr>\n",
       "    <tr>\n",
       "      <th>1</th>\n",
       "      <td>1</td>\n",
       "      <td>stp</td>\n",
       "      <td>EVE</td>\n",
       "      <td>10 cap * 3 stp * box</td>\n",
       "      <td>46</td>\n",
       "      <td>40</td>\n",
       "    </tr>\n",
       "    <tr>\n",
       "      <th>2</th>\n",
       "      <td>2</td>\n",
       "      <td>box</td>\n",
       "      <td>Royal D</td>\n",
       "      <td>50 sac * 20 box * 2ndBox</td>\n",
       "      <td>1</td>\n",
       "      <td>1</td>\n",
       "    </tr>\n",
       "    <tr>\n",
       "      <th>3</th>\n",
       "      <td>2</td>\n",
       "      <td>sac</td>\n",
       "      <td>Royal D</td>\n",
       "      <td>50 sac * 20 box * 2ndBox</td>\n",
       "      <td>597</td>\n",
       "      <td>119</td>\n",
       "    </tr>\n",
       "    <tr>\n",
       "      <th>4</th>\n",
       "      <td>3</td>\n",
       "      <td>box</td>\n",
       "      <td>Eposoft</td>\n",
       "      <td>10 cap * 3 stp * box</td>\n",
       "      <td>9</td>\n",
       "      <td>9</td>\n",
       "    </tr>\n",
       "    <tr>\n",
       "      <th>...</th>\n",
       "      <td>...</td>\n",
       "      <td>...</td>\n",
       "      <td>...</td>\n",
       "      <td>...</td>\n",
       "      <td>...</td>\n",
       "      <td>...</td>\n",
       "    </tr>\n",
       "    <tr>\n",
       "      <th>1103</th>\n",
       "      <td>948</td>\n",
       "      <td>stp</td>\n",
       "      <td>Zifam Clofen SR</td>\n",
       "      <td>10 tab * 3 stp * 5 box * 2ndBox</td>\n",
       "      <td>1</td>\n",
       "      <td>1</td>\n",
       "    </tr>\n",
       "    <tr>\n",
       "      <th>1104</th>\n",
       "      <td>949</td>\n",
       "      <td>stp</td>\n",
       "      <td>Alerday 180</td>\n",
       "      <td>10 tab * 10 stp * box</td>\n",
       "      <td>1</td>\n",
       "      <td>1</td>\n",
       "    </tr>\n",
       "    <tr>\n",
       "      <th>1105</th>\n",
       "      <td>950</td>\n",
       "      <td>bot</td>\n",
       "      <td>Metrogyl Syp</td>\n",
       "      <td>bot</td>\n",
       "      <td>1</td>\n",
       "      <td>1</td>\n",
       "    </tr>\n",
       "    <tr>\n",
       "      <th>1106</th>\n",
       "      <td>951</td>\n",
       "      <td>bot</td>\n",
       "      <td>V.Rohto Cool</td>\n",
       "      <td>bot</td>\n",
       "      <td>1</td>\n",
       "      <td>1</td>\n",
       "    </tr>\n",
       "    <tr>\n",
       "      <th>1107</th>\n",
       "      <td>954</td>\n",
       "      <td>stp</td>\n",
       "      <td>Tetracyclin Cap (AA)</td>\n",
       "      <td>10 cap * 10 stp * box</td>\n",
       "      <td>2</td>\n",
       "      <td>1</td>\n",
       "    </tr>\n",
       "  </tbody>\n",
       "</table>\n",
       "<p>1108 rows × 6 columns</p>\n",
       "</div>"
      ],
      "text/plain": [
       "      ProductNo Unit           ProductName                         PackSize  \\\n",
       "0             1  box                   EVE             10 cap * 3 stp * box   \n",
       "1             1  stp                   EVE             10 cap * 3 stp * box   \n",
       "2             2  box               Royal D         50 sac * 20 box * 2ndBox   \n",
       "3             2  sac               Royal D         50 sac * 20 box * 2ndBox   \n",
       "4             3  box               Eposoft             10 cap * 3 stp * box   \n",
       "...         ...  ...                   ...                              ...   \n",
       "1103        948  stp       Zifam Clofen SR  10 tab * 3 stp * 5 box * 2ndBox   \n",
       "1104        949  stp           Alerday 180            10 tab * 10 stp * box   \n",
       "1105        950  bot          Metrogyl Syp                              bot   \n",
       "1106        951  bot          V.Rohto Cool                              bot   \n",
       "1107        954  stp  Tetracyclin Cap (AA)            10 cap * 10 stp * box   \n",
       "\n",
       "      Quantity  InvoiceCount  \n",
       "0            1             1  \n",
       "1           46            40  \n",
       "2            1             1  \n",
       "3          597           119  \n",
       "4            9             9  \n",
       "...        ...           ...  \n",
       "1103         1             1  \n",
       "1104         1             1  \n",
       "1105         1             1  \n",
       "1106         1             1  \n",
       "1107         2             1  \n",
       "\n",
       "[1108 rows x 6 columns]"
      ]
     },
     "execution_count": 251,
     "metadata": {},
     "output_type": "execute_result"
    }
   ],
   "source": [
    "# Group by ProductNo and Unit, and aggregate data\n",
    "agg_temp_df = pharma_df.groupby(['ProductNo', 'Unit']).agg({\n",
    "    'ProductName': 'first',\n",
    "    'PackSize':'first',\n",
    "    'Quantity': 'sum',\n",
    "    'InvoiceNo': 'count'\n",
    "}).reset_index()\n",
    "agg_temp_df.rename(columns={'InvoiceNo':'InvoiceCount'},inplace=True)\n",
    "agg_temp_df"
   ]
  },
  {
   "cell_type": "code",
   "execution_count": 252,
   "id": "5e4b6565-846d-4f86-8f0c-3e0dbc61868a",
   "metadata": {},
   "outputs": [],
   "source": [
    "# get the index of the most frequent sales unit \n",
    "idx = agg_temp_df.groupby(['ProductNo'])['InvoiceCount'].idxmax()\n",
    "\n",
    "frequent_units_df = agg_temp_df.loc[idx, ['ProductNo', 'ProductName', 'Unit']].rename(columns={'Unit': 'FrequentUnit'})\n",
    "# print(frequent_units)"
   ]
  },
  {
   "cell_type": "code",
   "execution_count": 253,
   "id": "a024843f-8ee0-4ade-88fb-4ef8f4b21a49",
   "metadata": {},
   "outputs": [],
   "source": [
    "df=pharma_df.merge(frequent_units_df,on=['ProductNo', 'ProductName'])"
   ]
  },
  {
   "cell_type": "code",
   "execution_count": 254,
   "id": "1920f21e-78fb-48c7-be73-5b7cbee67f1a",
   "metadata": {},
   "outputs": [],
   "source": [
    "# df.sample(10)"
   ]
  },
  {
   "cell_type": "code",
   "execution_count": 255,
   "id": "341873c2-dd5d-4bcc-afd5-54090d0d7675",
   "metadata": {},
   "outputs": [],
   "source": [
    "def apply_conversion(row):\n",
    "    if row['Unit'] != row['FrequentUnit']:\n",
    "        row['Quantity'], row['Unit'] = convert(row['Quantity'], row['Unit'], row['FrequentUnit'], row['PackSize'])\n",
    "    return row"
   ]
  },
  {
   "cell_type": "code",
   "execution_count": 256,
   "id": "1dd34642-8646-4eac-9870-e829e2b01263",
   "metadata": {},
   "outputs": [],
   "source": [
    "df = df.apply(apply_conversion, axis=1)"
   ]
  },
  {
   "cell_type": "code",
   "execution_count": 257,
   "id": "c6f6c9f2-4e7e-4ea6-ac1c-c7ec4ddbe419",
   "metadata": {},
   "outputs": [
    {
     "data": {
      "text/plain": [
       "0"
      ]
     },
     "execution_count": 257,
     "metadata": {},
     "output_type": "execute_result"
    }
   ],
   "source": [
    "sum(df['Unit']!=df['FrequentUnit'])"
   ]
  },
  {
   "cell_type": "code",
   "execution_count": 258,
   "id": "c9351a66-1593-4f23-817b-cba4ce3e8412",
   "metadata": {},
   "outputs": [],
   "source": [
    "df.drop(columns='FrequentUnit',inplace=True)"
   ]
  },
  {
   "cell_type": "code",
   "execution_count": 259,
   "id": "82b94ebb-0821-4ba5-beec-90c71ce6dec9",
   "metadata": {},
   "outputs": [],
   "source": [
    "# column_order=['InvoiceNo','ProductNo','ProductName','PackSize','Quantity','Unit',]"
   ]
  },
  {
   "cell_type": "code",
   "execution_count": 260,
   "id": "701eefa1-4251-43e1-8377-1fe8cee2afe8",
   "metadata": {},
   "outputs": [
    {
     "data": {
      "text/html": [
       "<div>\n",
       "<style scoped>\n",
       "    .dataframe tbody tr th:only-of-type {\n",
       "        vertical-align: middle;\n",
       "    }\n",
       "\n",
       "    .dataframe tbody tr th {\n",
       "        vertical-align: top;\n",
       "    }\n",
       "\n",
       "    .dataframe thead th {\n",
       "        text-align: right;\n",
       "    }\n",
       "</style>\n",
       "<table border=\"1\" class=\"dataframe\">\n",
       "  <thead>\n",
       "    <tr style=\"text-align: right;\">\n",
       "      <th></th>\n",
       "      <th>InvoiceNo</th>\n",
       "      <th>InvoiceDate</th>\n",
       "      <th>ProductNo</th>\n",
       "      <th>Quantity</th>\n",
       "      <th>Unit</th>\n",
       "      <th>ProductName</th>\n",
       "      <th>PackSize</th>\n",
       "      <th>ChemicalName</th>\n",
       "    </tr>\n",
       "  </thead>\n",
       "  <tbody>\n",
       "    <tr>\n",
       "      <th>12432</th>\n",
       "      <td>1396</td>\n",
       "      <td>07/7/2015</td>\n",
       "      <td>107</td>\n",
       "      <td>1.0</td>\n",
       "      <td>stp</td>\n",
       "      <td>Carvidon mr 35</td>\n",
       "      <td>10 tab * 10 stp * box</td>\n",
       "      <td>Trimetazidine Hydrochloride</td>\n",
       "    </tr>\n",
       "  </tbody>\n",
       "</table>\n",
       "</div>"
      ],
      "text/plain": [
       "       InvoiceNo InvoiceDate  ProductNo  Quantity Unit     ProductName  \\\n",
       "12432       1396   07/7/2015        107       1.0  stp  Carvidon mr 35   \n",
       "\n",
       "                    PackSize                 ChemicalName  \n",
       "12432  10 tab * 10 stp * box  Trimetazidine Hydrochloride  "
      ]
     },
     "execution_count": 260,
     "metadata": {},
     "output_type": "execute_result"
    }
   ],
   "source": [
    "df.sample()"
   ]
  },
  {
   "cell_type": "markdown",
   "id": "53536388-eadb-4073-888d-728aed65a261",
   "metadata": {},
   "source": [
    "### Bought Unit"
   ]
  },
  {
   "cell_type": "code",
   "execution_count": 304,
   "id": "7d593304-ca47-46b5-8947-b9fb22ff58e9",
   "metadata": {},
   "outputs": [],
   "source": [
    "# df['BoughtUnit']=conversion_table(df['PackSize'])[-1][-1]"
   ]
  },
  {
   "cell_type": "code",
   "execution_count": 305,
   "id": "cfec4683-1c84-424f-b1ae-c964d075b9d7",
   "metadata": {},
   "outputs": [],
   "source": [
    "# Ensure that df['PackSize'] is passed correctly to the conversion_table function\n",
    "df['BoughtUnit'] = df['PackSize'].apply(lambda x: conversion_table(x)[-1][-1])\n"
   ]
  },
  {
   "cell_type": "code",
   "execution_count": 306,
   "id": "223875e4-f9b6-4715-a94b-feb87406c2c5",
   "metadata": {},
   "outputs": [
    {
     "data": {
      "text/html": [
       "<div>\n",
       "<style scoped>\n",
       "    .dataframe tbody tr th:only-of-type {\n",
       "        vertical-align: middle;\n",
       "    }\n",
       "\n",
       "    .dataframe tbody tr th {\n",
       "        vertical-align: top;\n",
       "    }\n",
       "\n",
       "    .dataframe thead th {\n",
       "        text-align: right;\n",
       "    }\n",
       "</style>\n",
       "<table border=\"1\" class=\"dataframe\">\n",
       "  <thead>\n",
       "    <tr style=\"text-align: right;\">\n",
       "      <th></th>\n",
       "      <th>ProductNo</th>\n",
       "      <th>ProductName</th>\n",
       "      <th>Quantity</th>\n",
       "      <th>Unit</th>\n",
       "      <th>PackSize</th>\n",
       "      <th>InvoiceCount</th>\n",
       "      <th>FrequentUnit</th>\n",
       "      <th>BoughtUnit</th>\n",
       "    </tr>\n",
       "  </thead>\n",
       "  <tbody>\n",
       "    <tr>\n",
       "      <th>0</th>\n",
       "      <td>1</td>\n",
       "      <td>EVE</td>\n",
       "      <td>3</td>\n",
       "      <td>stp</td>\n",
       "      <td>10 cap * 3 stp * box</td>\n",
       "      <td>1</td>\n",
       "      <td>stp</td>\n",
       "      <td>box</td>\n",
       "    </tr>\n",
       "    <tr>\n",
       "      <th>1</th>\n",
       "      <td>1</td>\n",
       "      <td>EVE</td>\n",
       "      <td>30</td>\n",
       "      <td>stp</td>\n",
       "      <td>10 cap * 3 stp * box</td>\n",
       "      <td>40</td>\n",
       "      <td>stp</td>\n",
       "      <td>box</td>\n",
       "    </tr>\n",
       "    <tr>\n",
       "      <th>2</th>\n",
       "      <td>2</td>\n",
       "      <td>Royal D</td>\n",
       "      <td>50</td>\n",
       "      <td>sac</td>\n",
       "      <td>50 sac * 20 box * 2ndBox</td>\n",
       "      <td>1</td>\n",
       "      <td>sac</td>\n",
       "      <td>2ndBox</td>\n",
       "    </tr>\n",
       "    <tr>\n",
       "      <th>3</th>\n",
       "      <td>2</td>\n",
       "      <td>Royal D</td>\n",
       "      <td>250</td>\n",
       "      <td>sac</td>\n",
       "      <td>50 sac * 20 box * 2ndBox</td>\n",
       "      <td>119</td>\n",
       "      <td>sac</td>\n",
       "      <td>2ndBox</td>\n",
       "    </tr>\n",
       "    <tr>\n",
       "      <th>4</th>\n",
       "      <td>3</td>\n",
       "      <td>Eposoft</td>\n",
       "      <td>9</td>\n",
       "      <td>box</td>\n",
       "      <td>10 cap * 3 stp * box</td>\n",
       "      <td>9</td>\n",
       "      <td>box</td>\n",
       "      <td>box</td>\n",
       "    </tr>\n",
       "  </tbody>\n",
       "</table>\n",
       "</div>"
      ],
      "text/plain": [
       "   ProductNo ProductName  Quantity Unit                  PackSize  \\\n",
       "0          1         EVE         3  stp      10 cap * 3 stp * box   \n",
       "1          1         EVE        30  stp      10 cap * 3 stp * box   \n",
       "2          2     Royal D        50  sac  50 sac * 20 box * 2ndBox   \n",
       "3          2     Royal D       250  sac  50 sac * 20 box * 2ndBox   \n",
       "4          3     Eposoft         9  box      10 cap * 3 stp * box   \n",
       "\n",
       "   InvoiceCount FrequentUnit BoughtUnit  \n",
       "0             1          stp        box  \n",
       "1            40          stp        box  \n",
       "2             1          sac     2ndBox  \n",
       "3           119          sac     2ndBox  \n",
       "4             9          box        box  "
      ]
     },
     "execution_count": 306,
     "metadata": {},
     "output_type": "execute_result"
    }
   ],
   "source": [
    "df['BoughtQty']="
   ]
  },
  {
   "cell_type": "code",
   "execution_count": null,
   "id": "5bd96ec0-c5ca-48d1-81fb-35edc1b7b47a",
   "metadata": {},
   "outputs": [],
   "source": []
  },
  {
   "cell_type": "markdown",
   "id": "7366051c-f24f-444f-8b48-9feea7f9d6a2",
   "metadata": {},
   "source": [
    "### DateTime Conversion\n",
    "The dataset includes an 'InvoiceDate' column, which is an object data type. We need to transform it into a DateTime data type."
   ]
  },
  {
   "cell_type": "code",
   "execution_count": 261,
   "id": "452604df-ac9e-491c-ae2b-cdf9a9f83c11",
   "metadata": {},
   "outputs": [],
   "source": [
    "df['InvoiceDate']=pd.DatetimeIndex(pharma_df.InvoiceDate)"
   ]
  },
  {
   "cell_type": "code",
   "execution_count": 262,
   "id": "e8106788-d965-47ad-b279-dd30f4c43fb6",
   "metadata": {},
   "outputs": [],
   "source": [
    "df['Month']=pd.DatetimeIndex(pharma_df.InvoiceDate).month\n",
    "df['MonthName']=pd.DatetimeIndex(pharma_df.InvoiceDate).month_name()\n",
    "df['Day']=pd.DatetimeIndex(pharma_df.InvoiceDate).day\n",
    "df['WeekDay']=pd.DatetimeIndex(pharma_df.InvoiceDate).weekday\n",
    "df['DayName']=pd.DatetimeIndex(pharma_df.InvoiceDate).day_name()"
   ]
  },
  {
   "cell_type": "markdown",
   "id": "1fd39500-c953-40e1-b94a-b941ab0e32c0",
   "metadata": {},
   "source": [
    "## Exploratory Analaysis"
   ]
  },
  {
   "cell_type": "code",
   "execution_count": 263,
   "id": "081e4f3f-2582-4bde-8f8e-7cdacb620ef5",
   "metadata": {},
   "outputs": [],
   "source": [
    "# !pip install seaborn"
   ]
  },
  {
   "cell_type": "code",
   "execution_count": 264,
   "id": "ff4e103a-9837-4fb9-8e36-2f341a2dbc58",
   "metadata": {},
   "outputs": [],
   "source": [
    "import matplotlib.pyplot as plt\n",
    "import matplotlib_inline\n",
    "import seaborn as sns\n",
    "sns.set_style('darkgrid')\n",
    "plt.rcParams['font.size']=14\n",
    "plt.rcParams['figure.figsize']=[9,5]"
   ]
  },
  {
   "cell_type": "markdown",
   "id": "deb8f45c-f605-46e9-97f0-1d7aff200204",
   "metadata": {},
   "source": []
  },
  {
   "cell_type": "code",
   "execution_count": 265,
   "id": "843d4a88-bd9d-4e58-9511-edf1e01d8865",
   "metadata": {},
   "outputs": [],
   "source": [
    "agg_explore_df=df.groupby(['ProductNo', 'Unit']).agg({\n",
    "    'ProductName': 'first',\n",
    "    'PackSize':'first',\n",
    "    'Quantity': 'sum',\n",
    "    'InvoiceNo': 'count'\n",
    "}).reset_index()\n",
    "agg_explore_df.rename(columns={'InvoiceNo':'InvoiceCount'},inplace=True)"
   ]
  },
  {
   "cell_type": "code",
   "execution_count": 266,
   "id": "747bcaac-fa44-49ae-a305-8236c08694da",
   "metadata": {
    "scrolled": true
   },
   "outputs": [
    {
     "data": {
      "text/html": [
       "<div>\n",
       "<style scoped>\n",
       "    .dataframe tbody tr th:only-of-type {\n",
       "        vertical-align: middle;\n",
       "    }\n",
       "\n",
       "    .dataframe tbody tr th {\n",
       "        vertical-align: top;\n",
       "    }\n",
       "\n",
       "    .dataframe thead th {\n",
       "        text-align: right;\n",
       "    }\n",
       "</style>\n",
       "<table border=\"1\" class=\"dataframe\">\n",
       "  <thead>\n",
       "    <tr style=\"text-align: right;\">\n",
       "      <th></th>\n",
       "      <th>ProductNo</th>\n",
       "      <th>ProductName</th>\n",
       "      <th>PackSize</th>\n",
       "      <th>Quantity</th>\n",
       "      <th>Unit</th>\n",
       "      <th>InvoiceCount</th>\n",
       "    </tr>\n",
       "  </thead>\n",
       "  <tbody>\n",
       "    <tr>\n",
       "      <th>0</th>\n",
       "      <td>1</td>\n",
       "      <td>EVE</td>\n",
       "      <td>10 cap * 3 stp * box</td>\n",
       "      <td>49.0</td>\n",
       "      <td>stp</td>\n",
       "      <td>41</td>\n",
       "    </tr>\n",
       "    <tr>\n",
       "      <th>1</th>\n",
       "      <td>2</td>\n",
       "      <td>Royal D</td>\n",
       "      <td>50 sac * 20 box * 2ndBox</td>\n",
       "      <td>647.0</td>\n",
       "      <td>sac</td>\n",
       "      <td>120</td>\n",
       "    </tr>\n",
       "    <tr>\n",
       "      <th>2</th>\n",
       "      <td>3</td>\n",
       "      <td>Eposoft</td>\n",
       "      <td>10 cap * 3 stp * box</td>\n",
       "      <td>68.0</td>\n",
       "      <td>stp</td>\n",
       "      <td>47</td>\n",
       "    </tr>\n",
       "    <tr>\n",
       "      <th>3</th>\n",
       "      <td>4</td>\n",
       "      <td>Enat 400</td>\n",
       "      <td>10 cap * 3 stp * box</td>\n",
       "      <td>43.0</td>\n",
       "      <td>stp</td>\n",
       "      <td>29</td>\n",
       "    </tr>\n",
       "    <tr>\n",
       "      <th>4</th>\n",
       "      <td>5</td>\n",
       "      <td>Vita-Kid</td>\n",
       "      <td>60 tab * bot</td>\n",
       "      <td>20.0</td>\n",
       "      <td>bot</td>\n",
       "      <td>19</td>\n",
       "    </tr>\n",
       "    <tr>\n",
       "      <th>...</th>\n",
       "      <td>...</td>\n",
       "      <td>...</td>\n",
       "      <td>...</td>\n",
       "      <td>...</td>\n",
       "      <td>...</td>\n",
       "      <td>...</td>\n",
       "    </tr>\n",
       "    <tr>\n",
       "      <th>868</th>\n",
       "      <td>948</td>\n",
       "      <td>Zifam Clofen SR</td>\n",
       "      <td>10 tab * 3 stp * 5 box * 2ndBox</td>\n",
       "      <td>1.0</td>\n",
       "      <td>stp</td>\n",
       "      <td>1</td>\n",
       "    </tr>\n",
       "    <tr>\n",
       "      <th>869</th>\n",
       "      <td>949</td>\n",
       "      <td>Alerday 180</td>\n",
       "      <td>10 tab * 10 stp * box</td>\n",
       "      <td>1.0</td>\n",
       "      <td>stp</td>\n",
       "      <td>1</td>\n",
       "    </tr>\n",
       "    <tr>\n",
       "      <th>870</th>\n",
       "      <td>950</td>\n",
       "      <td>Metrogyl Syp</td>\n",
       "      <td>bot</td>\n",
       "      <td>1.0</td>\n",
       "      <td>bot</td>\n",
       "      <td>1</td>\n",
       "    </tr>\n",
       "    <tr>\n",
       "      <th>871</th>\n",
       "      <td>951</td>\n",
       "      <td>V.Rohto Cool</td>\n",
       "      <td>bot</td>\n",
       "      <td>1.0</td>\n",
       "      <td>bot</td>\n",
       "      <td>1</td>\n",
       "    </tr>\n",
       "    <tr>\n",
       "      <th>872</th>\n",
       "      <td>954</td>\n",
       "      <td>Tetracyclin Cap (AA)</td>\n",
       "      <td>10 cap * 10 stp * box</td>\n",
       "      <td>2.0</td>\n",
       "      <td>stp</td>\n",
       "      <td>1</td>\n",
       "    </tr>\n",
       "  </tbody>\n",
       "</table>\n",
       "<p>873 rows × 6 columns</p>\n",
       "</div>"
      ],
      "text/plain": [
       "     ProductNo           ProductName                         PackSize  \\\n",
       "0            1                   EVE             10 cap * 3 stp * box   \n",
       "1            2               Royal D         50 sac * 20 box * 2ndBox   \n",
       "2            3               Eposoft             10 cap * 3 stp * box   \n",
       "3            4              Enat 400             10 cap * 3 stp * box   \n",
       "4            5              Vita-Kid                     60 tab * bot   \n",
       "..         ...                   ...                              ...   \n",
       "868        948       Zifam Clofen SR  10 tab * 3 stp * 5 box * 2ndBox   \n",
       "869        949           Alerday 180            10 tab * 10 stp * box   \n",
       "870        950          Metrogyl Syp                              bot   \n",
       "871        951          V.Rohto Cool                              bot   \n",
       "872        954  Tetracyclin Cap (AA)            10 cap * 10 stp * box   \n",
       "\n",
       "     Quantity Unit  InvoiceCount  \n",
       "0        49.0  stp            41  \n",
       "1       647.0  sac           120  \n",
       "2        68.0  stp            47  \n",
       "3        43.0  stp            29  \n",
       "4        20.0  bot            19  \n",
       "..        ...  ...           ...  \n",
       "868       1.0  stp             1  \n",
       "869       1.0  stp             1  \n",
       "870       1.0  bot             1  \n",
       "871       1.0  bot             1  \n",
       "872       2.0  stp             1  \n",
       "\n",
       "[873 rows x 6 columns]"
      ]
     },
     "execution_count": 266,
     "metadata": {},
     "output_type": "execute_result"
    }
   ],
   "source": [
    "# Rearrange the columns order\n",
    "agg_explore_df=agg_explore_df[['ProductNo','ProductName','PackSize','Quantity','Unit','InvoiceCount']]\n",
    "agg_explore_df"
   ]
  },
  {
   "cell_type": "markdown",
   "id": "58878242-7d03-4032-ad41-ba123dfd6646",
   "metadata": {},
   "source": [
    "### Sales Rate\n",
    "By calculating units sold per invoice, we can analyze that products with high units sold per invoice but low invoice counts have a higher risk of expiry."
   ]
  },
  {
   "cell_type": "code",
   "execution_count": 267,
   "id": "fc847388-63dc-49bd-9e7e-646c3faa4983",
   "metadata": {},
   "outputs": [],
   "source": [
    "# Calculate Sales Rate\n",
    "agg_explore_df.loc[:,'UnitsSoldPerInvoice'] = agg_explore_df['Quantity'] / agg_explore_df['InvoiceCount']"
   ]
  },
  {
   "cell_type": "code",
   "execution_count": 268,
   "id": "c73ffacc-59c9-421e-9fa9-d96ba787e9b6",
   "metadata": {},
   "outputs": [
    {
     "data": {
      "text/html": [
       "<div>\n",
       "<style scoped>\n",
       "    .dataframe tbody tr th:only-of-type {\n",
       "        vertical-align: middle;\n",
       "    }\n",
       "\n",
       "    .dataframe tbody tr th {\n",
       "        vertical-align: top;\n",
       "    }\n",
       "\n",
       "    .dataframe thead th {\n",
       "        text-align: right;\n",
       "    }\n",
       "</style>\n",
       "<table border=\"1\" class=\"dataframe\">\n",
       "  <thead>\n",
       "    <tr style=\"text-align: right;\">\n",
       "      <th></th>\n",
       "      <th>ProductNo</th>\n",
       "      <th>ProductName</th>\n",
       "      <th>PackSize</th>\n",
       "      <th>Quantity</th>\n",
       "      <th>Unit</th>\n",
       "      <th>InvoiceCount</th>\n",
       "      <th>UnitsSoldPerInvoice</th>\n",
       "    </tr>\n",
       "  </thead>\n",
       "  <tbody>\n",
       "    <tr>\n",
       "      <th>764</th>\n",
       "      <td>817</td>\n",
       "      <td>Cough 1000's (zedi)</td>\n",
       "      <td>1000 tab * bot</td>\n",
       "      <td>1000.0</td>\n",
       "      <td>tab</td>\n",
       "      <td>2</td>\n",
       "      <td>500.000000</td>\n",
       "    </tr>\n",
       "    <tr>\n",
       "      <th>793</th>\n",
       "      <td>848</td>\n",
       "      <td>Sodamint 1000's (??????)</td>\n",
       "      <td>1000 tab * pack</td>\n",
       "      <td>2670.0</td>\n",
       "      <td>tab</td>\n",
       "      <td>9</td>\n",
       "      <td>296.666667</td>\n",
       "    </tr>\n",
       "    <tr>\n",
       "      <th>509</th>\n",
       "      <td>543</td>\n",
       "      <td>Cevit Masa</td>\n",
       "      <td>1000 tab * bot</td>\n",
       "      <td>6421.0</td>\n",
       "      <td>tab</td>\n",
       "      <td>52</td>\n",
       "      <td>123.480769</td>\n",
       "    </tr>\n",
       "    <tr>\n",
       "      <th>666</th>\n",
       "      <td>712</td>\n",
       "      <td>PremoBrom</td>\n",
       "      <td>1000 tab * bot</td>\n",
       "      <td>761.0</td>\n",
       "      <td>tab</td>\n",
       "      <td>9</td>\n",
       "      <td>84.555556</td>\n",
       "    </tr>\n",
       "    <tr>\n",
       "      <th>458</th>\n",
       "      <td>487</td>\n",
       "      <td>Tung Hai Fish Oil</td>\n",
       "      <td>500 cap * pack</td>\n",
       "      <td>960.0</td>\n",
       "      <td>cap</td>\n",
       "      <td>12</td>\n",
       "      <td>80.000000</td>\n",
       "    </tr>\n",
       "    <tr>\n",
       "      <th>291</th>\n",
       "      <td>310</td>\n",
       "      <td>MOM 1000's Thai</td>\n",
       "      <td>1000 tab * bot</td>\n",
       "      <td>3951.0</td>\n",
       "      <td>tab</td>\n",
       "      <td>56</td>\n",
       "      <td>70.553571</td>\n",
       "    </tr>\n",
       "    <tr>\n",
       "      <th>293</th>\n",
       "      <td>312</td>\n",
       "      <td>Gelmag China</td>\n",
       "      <td>1000 tab * bot</td>\n",
       "      <td>116.0</td>\n",
       "      <td>tab</td>\n",
       "      <td>2</td>\n",
       "      <td>58.000000</td>\n",
       "    </tr>\n",
       "    <tr>\n",
       "      <th>157</th>\n",
       "      <td>170</td>\n",
       "      <td>Ribovit</td>\n",
       "      <td>100 tab * bot</td>\n",
       "      <td>5093.0</td>\n",
       "      <td>tab</td>\n",
       "      <td>109</td>\n",
       "      <td>46.724771</td>\n",
       "    </tr>\n",
       "    <tr>\n",
       "      <th>148</th>\n",
       "      <td>161</td>\n",
       "      <td>Aminophylline bpi</td>\n",
       "      <td>100 tab * bot</td>\n",
       "      <td>1177.0</td>\n",
       "      <td>tab</td>\n",
       "      <td>26</td>\n",
       "      <td>45.269231</td>\n",
       "    </tr>\n",
       "    <tr>\n",
       "      <th>652</th>\n",
       "      <td>697</td>\n",
       "      <td>Metro Pol</td>\n",
       "      <td>100 tab * bot</td>\n",
       "      <td>764.0</td>\n",
       "      <td>tab</td>\n",
       "      <td>17</td>\n",
       "      <td>44.941176</td>\n",
       "    </tr>\n",
       "    <tr>\n",
       "      <th>151</th>\n",
       "      <td>164</td>\n",
       "      <td>Burmeton pol</td>\n",
       "      <td>100 tab * bot</td>\n",
       "      <td>2161.0</td>\n",
       "      <td>tab</td>\n",
       "      <td>51</td>\n",
       "      <td>42.372549</td>\n",
       "    </tr>\n",
       "    <tr>\n",
       "      <th>159</th>\n",
       "      <td>172</td>\n",
       "      <td>Vitazone</td>\n",
       "      <td>100 tab * bot</td>\n",
       "      <td>330.0</td>\n",
       "      <td>tab</td>\n",
       "      <td>9</td>\n",
       "      <td>36.666667</td>\n",
       "    </tr>\n",
       "    <tr>\n",
       "      <th>110</th>\n",
       "      <td>120</td>\n",
       "      <td>Obimin 100's</td>\n",
       "      <td>100 tab * bot</td>\n",
       "      <td>165.0</td>\n",
       "      <td>tab</td>\n",
       "      <td>5</td>\n",
       "      <td>33.000000</td>\n",
       "    </tr>\n",
       "    <tr>\n",
       "      <th>604</th>\n",
       "      <td>642</td>\n",
       "      <td>Vit E 100's</td>\n",
       "      <td>100 cap * bot</td>\n",
       "      <td>130.0</td>\n",
       "      <td>cap</td>\n",
       "      <td>4</td>\n",
       "      <td>32.500000</td>\n",
       "    </tr>\n",
       "    <tr>\n",
       "      <th>330</th>\n",
       "      <td>350</td>\n",
       "      <td>Alaska Omega 3 100's ????</td>\n",
       "      <td>100 cap * bot</td>\n",
       "      <td>60.0</td>\n",
       "      <td>cap</td>\n",
       "      <td>2</td>\n",
       "      <td>30.000000</td>\n",
       "    </tr>\n",
       "    <tr>\n",
       "      <th>344</th>\n",
       "      <td>364</td>\n",
       "      <td>Move Free</td>\n",
       "      <td>170 tab * bot</td>\n",
       "      <td>2487.0</td>\n",
       "      <td>tab</td>\n",
       "      <td>83</td>\n",
       "      <td>29.963855</td>\n",
       "    </tr>\n",
       "    <tr>\n",
       "      <th>306</th>\n",
       "      <td>326</td>\n",
       "      <td>3 cc (JY) Syringe</td>\n",
       "      <td>120 pcs * box</td>\n",
       "      <td>977.0</td>\n",
       "      <td>pcs</td>\n",
       "      <td>35</td>\n",
       "      <td>27.914286</td>\n",
       "    </tr>\n",
       "    <tr>\n",
       "      <th>328</th>\n",
       "      <td>348</td>\n",
       "      <td>Mega 3 300's</td>\n",
       "      <td>300 cap * bot</td>\n",
       "      <td>4072.0</td>\n",
       "      <td>cap</td>\n",
       "      <td>146</td>\n",
       "      <td>27.890411</td>\n",
       "    </tr>\n",
       "    <tr>\n",
       "      <th>65</th>\n",
       "      <td>75</td>\n",
       "      <td>Centrum Silver</td>\n",
       "      <td>285 tab * bot</td>\n",
       "      <td>4474.0</td>\n",
       "      <td>tab</td>\n",
       "      <td>161</td>\n",
       "      <td>27.788820</td>\n",
       "    </tr>\n",
       "    <tr>\n",
       "      <th>707</th>\n",
       "      <td>754</td>\n",
       "      <td>1 cc 29G (Kenxin) Syringe</td>\n",
       "      <td>100 pcs * box</td>\n",
       "      <td>109.0</td>\n",
       "      <td>pcs</td>\n",
       "      <td>4</td>\n",
       "      <td>27.250000</td>\n",
       "    </tr>\n",
       "    <tr>\n",
       "      <th>156</th>\n",
       "      <td>169</td>\n",
       "      <td>Paracetamol Ygn</td>\n",
       "      <td>100 tab * bot</td>\n",
       "      <td>1898.0</td>\n",
       "      <td>tab</td>\n",
       "      <td>74</td>\n",
       "      <td>25.648649</td>\n",
       "    </tr>\n",
       "    <tr>\n",
       "      <th>596</th>\n",
       "      <td>634</td>\n",
       "      <td>Alcohol Pad Kenxin</td>\n",
       "      <td>100 pcs * box</td>\n",
       "      <td>532.0</td>\n",
       "      <td>pcs</td>\n",
       "      <td>22</td>\n",
       "      <td>24.181818</td>\n",
       "    </tr>\n",
       "    <tr>\n",
       "      <th>155</th>\n",
       "      <td>168</td>\n",
       "      <td>Gelmag Pol ????</td>\n",
       "      <td>50 tab * bot</td>\n",
       "      <td>334.0</td>\n",
       "      <td>tab</td>\n",
       "      <td>17</td>\n",
       "      <td>19.647059</td>\n",
       "    </tr>\n",
       "    <tr>\n",
       "      <th>308</th>\n",
       "      <td>328</td>\n",
       "      <td>Butterfly Needle Hanako ????</td>\n",
       "      <td>100 pcs * box</td>\n",
       "      <td>484.0</td>\n",
       "      <td>pcs</td>\n",
       "      <td>26</td>\n",
       "      <td>18.615385</td>\n",
       "    </tr>\n",
       "    <tr>\n",
       "      <th>780</th>\n",
       "      <td>833</td>\n",
       "      <td>1 cc 26G (Terumo) Syringe</td>\n",
       "      <td>100 pcs * box</td>\n",
       "      <td>87.0</td>\n",
       "      <td>pcs</td>\n",
       "      <td>5</td>\n",
       "      <td>17.400000</td>\n",
       "    </tr>\n",
       "    <tr>\n",
       "      <th>19</th>\n",
       "      <td>21</td>\n",
       "      <td>Optica</td>\n",
       "      <td>30 cap * bot</td>\n",
       "      <td>1128.0</td>\n",
       "      <td>cap</td>\n",
       "      <td>66</td>\n",
       "      <td>17.090909</td>\n",
       "    </tr>\n",
       "    <tr>\n",
       "      <th>329</th>\n",
       "      <td>349</td>\n",
       "      <td>Nuflam 300's</td>\n",
       "      <td>300 cap * bot</td>\n",
       "      <td>305.0</td>\n",
       "      <td>cap</td>\n",
       "      <td>20</td>\n",
       "      <td>15.250000</td>\n",
       "    </tr>\n",
       "    <tr>\n",
       "      <th>53</th>\n",
       "      <td>62</td>\n",
       "      <td>Protec Plus ????</td>\n",
       "      <td>30 tab * bot</td>\n",
       "      <td>88.0</td>\n",
       "      <td>tab</td>\n",
       "      <td>6</td>\n",
       "      <td>14.666667</td>\n",
       "    </tr>\n",
       "    <tr>\n",
       "      <th>498</th>\n",
       "      <td>531</td>\n",
       "      <td>Enpott</td>\n",
       "      <td>500 tab * bot</td>\n",
       "      <td>200.0</td>\n",
       "      <td>tab</td>\n",
       "      <td>14</td>\n",
       "      <td>14.285714</td>\n",
       "    </tr>\n",
       "    <tr>\n",
       "      <th>70</th>\n",
       "      <td>80</td>\n",
       "      <td>Coveram 10/5</td>\n",
       "      <td>30 tab * bot</td>\n",
       "      <td>40.0</td>\n",
       "      <td>tab</td>\n",
       "      <td>3</td>\n",
       "      <td>13.333333</td>\n",
       "    </tr>\n",
       "    <tr>\n",
       "      <th>48</th>\n",
       "      <td>57</td>\n",
       "      <td>Enervon-C 100's</td>\n",
       "      <td>100 tab * bot</td>\n",
       "      <td>3399.0</td>\n",
       "      <td>tab</td>\n",
       "      <td>259</td>\n",
       "      <td>13.123552</td>\n",
       "    </tr>\n",
       "    <tr>\n",
       "      <th>305</th>\n",
       "      <td>325</td>\n",
       "      <td>5 cc (JY) Syringe</td>\n",
       "      <td>100 pcs * box</td>\n",
       "      <td>1013.0</td>\n",
       "      <td>pcs</td>\n",
       "      <td>80</td>\n",
       "      <td>12.662500</td>\n",
       "    </tr>\n",
       "    <tr>\n",
       "      <th>802</th>\n",
       "      <td>859</td>\n",
       "      <td>PaiMetro</td>\n",
       "      <td>10 tab * 10 stp * box</td>\n",
       "      <td>300.0</td>\n",
       "      <td>stp</td>\n",
       "      <td>25</td>\n",
       "      <td>12.000000</td>\n",
       "    </tr>\n",
       "    <tr>\n",
       "      <th>736</th>\n",
       "      <td>784</td>\n",
       "      <td>Oramin C 100's</td>\n",
       "      <td>100 tab * bot</td>\n",
       "      <td>127.0</td>\n",
       "      <td>tab</td>\n",
       "      <td>12</td>\n",
       "      <td>10.583333</td>\n",
       "    </tr>\n",
       "    <tr>\n",
       "      <th>568</th>\n",
       "      <td>605</td>\n",
       "      <td>Needle 21G</td>\n",
       "      <td>100 pcs * box</td>\n",
       "      <td>31.0</td>\n",
       "      <td>pcs</td>\n",
       "      <td>3</td>\n",
       "      <td>10.333333</td>\n",
       "    </tr>\n",
       "    <tr>\n",
       "      <th>784</th>\n",
       "      <td>837</td>\n",
       "      <td>C Pen (Zedi)</td>\n",
       "      <td>Vial</td>\n",
       "      <td>20.0</td>\n",
       "      <td>Vial</td>\n",
       "      <td>2</td>\n",
       "      <td>10.000000</td>\n",
       "    </tr>\n",
       "    <tr>\n",
       "      <th>334</th>\n",
       "      <td>354</td>\n",
       "      <td>Urgo Plaster Transparent</td>\n",
       "      <td>100 pcs * box</td>\n",
       "      <td>987.0</td>\n",
       "      <td>pcs</td>\n",
       "      <td>101</td>\n",
       "      <td>9.772277</td>\n",
       "    </tr>\n",
       "    <tr>\n",
       "      <th>307</th>\n",
       "      <td>327</td>\n",
       "      <td>5 cc (Hanako) Syringe</td>\n",
       "      <td>100 pcs * box</td>\n",
       "      <td>97.0</td>\n",
       "      <td>pcs</td>\n",
       "      <td>11</td>\n",
       "      <td>8.818182</td>\n",
       "    </tr>\n",
       "    <tr>\n",
       "      <th>211</th>\n",
       "      <td>229</td>\n",
       "      <td>Metro-250(Umedica)</td>\n",
       "      <td>10 tab * 10 stp * box</td>\n",
       "      <td>490.0</td>\n",
       "      <td>stp</td>\n",
       "      <td>58</td>\n",
       "      <td>8.448276</td>\n",
       "    </tr>\n",
       "    <tr>\n",
       "      <th>304</th>\n",
       "      <td>324</td>\n",
       "      <td>20 cc (JY) Syringe</td>\n",
       "      <td>50 pcs * box</td>\n",
       "      <td>352.0</td>\n",
       "      <td>pcs</td>\n",
       "      <td>43</td>\n",
       "      <td>8.186047</td>\n",
       "    </tr>\n",
       "    <tr>\n",
       "      <th>778</th>\n",
       "      <td>831</td>\n",
       "      <td>Tothema</td>\n",
       "      <td>20 amp * box</td>\n",
       "      <td>40.0</td>\n",
       "      <td>amp</td>\n",
       "      <td>5</td>\n",
       "      <td>8.000000</td>\n",
       "    </tr>\n",
       "    <tr>\n",
       "      <th>774</th>\n",
       "      <td>827</td>\n",
       "      <td>Vinpotin 5</td>\n",
       "      <td>25 tab * 2 stp * box</td>\n",
       "      <td>8.0</td>\n",
       "      <td>box</td>\n",
       "      <td>1</td>\n",
       "      <td>8.000000</td>\n",
       "    </tr>\n",
       "    <tr>\n",
       "      <th>485</th>\n",
       "      <td>515</td>\n",
       "      <td>PadAmox</td>\n",
       "      <td>10 cap * 10 stp * box</td>\n",
       "      <td>204.0</td>\n",
       "      <td>stp</td>\n",
       "      <td>27</td>\n",
       "      <td>7.555556</td>\n",
       "    </tr>\n",
       "    <tr>\n",
       "      <th>339</th>\n",
       "      <td>359</td>\n",
       "      <td>Shudi Plaster</td>\n",
       "      <td>10 pcs * box</td>\n",
       "      <td>539.0</td>\n",
       "      <td>pcs</td>\n",
       "      <td>72</td>\n",
       "      <td>7.486111</td>\n",
       "    </tr>\n",
       "    <tr>\n",
       "      <th>366</th>\n",
       "      <td>387</td>\n",
       "      <td>????????? ?????? ????</td>\n",
       "      <td>10 sac * 12 pack * 2ndPack</td>\n",
       "      <td>708.0</td>\n",
       "      <td>sac</td>\n",
       "      <td>95</td>\n",
       "      <td>7.452632</td>\n",
       "    </tr>\n",
       "    <tr>\n",
       "      <th>639</th>\n",
       "      <td>682</td>\n",
       "      <td>Clobetamil G</td>\n",
       "      <td>tube</td>\n",
       "      <td>52.0</td>\n",
       "      <td>tube</td>\n",
       "      <td>7</td>\n",
       "      <td>7.428571</td>\n",
       "    </tr>\n",
       "    <tr>\n",
       "      <th>570</th>\n",
       "      <td>607</td>\n",
       "      <td>Nuramin Forte inj</td>\n",
       "      <td>25 amp * box</td>\n",
       "      <td>260.0</td>\n",
       "      <td>amp</td>\n",
       "      <td>36</td>\n",
       "      <td>7.222222</td>\n",
       "    </tr>\n",
       "    <tr>\n",
       "      <th>332</th>\n",
       "      <td>352</td>\n",
       "      <td>Hansaplast Elastic</td>\n",
       "      <td>100 pcs * box</td>\n",
       "      <td>892.0</td>\n",
       "      <td>pcs</td>\n",
       "      <td>126</td>\n",
       "      <td>7.079365</td>\n",
       "    </tr>\n",
       "    <tr>\n",
       "      <th>748</th>\n",
       "      <td>796</td>\n",
       "      <td>Exam Glove Supermax M Size</td>\n",
       "      <td>100 pcs * box</td>\n",
       "      <td>14.0</td>\n",
       "      <td>pcs</td>\n",
       "      <td>2</td>\n",
       "      <td>7.000000</td>\n",
       "    </tr>\n",
       "    <tr>\n",
       "      <th>584</th>\n",
       "      <td>621</td>\n",
       "      <td>Umetac inj</td>\n",
       "      <td>10 amp * stp</td>\n",
       "      <td>94.0</td>\n",
       "      <td>amp</td>\n",
       "      <td>14</td>\n",
       "      <td>6.714286</td>\n",
       "    </tr>\n",
       "  </tbody>\n",
       "</table>\n",
       "</div>"
      ],
      "text/plain": [
       "     ProductNo                   ProductName                    PackSize  \\\n",
       "764        817           Cough 1000's (zedi)              1000 tab * bot   \n",
       "793        848      Sodamint 1000's (??????)             1000 tab * pack   \n",
       "509        543                    Cevit Masa              1000 tab * bot   \n",
       "666        712                     PremoBrom              1000 tab * bot   \n",
       "458        487            Tung Hai Fish Oil               500 cap * pack   \n",
       "291        310               MOM 1000's Thai              1000 tab * bot   \n",
       "293        312                  Gelmag China              1000 tab * bot   \n",
       "157        170                       Ribovit               100 tab * bot   \n",
       "148        161             Aminophylline bpi               100 tab * bot   \n",
       "652        697                     Metro Pol               100 tab * bot   \n",
       "151        164                  Burmeton pol               100 tab * bot   \n",
       "159        172                      Vitazone               100 tab * bot   \n",
       "110        120                  Obimin 100's               100 tab * bot   \n",
       "604        642                   Vit E 100's               100 cap * bot   \n",
       "330        350     Alaska Omega 3 100's ????               100 cap * bot   \n",
       "344        364                     Move Free               170 tab * bot   \n",
       "306        326             3 cc (JY) Syringe               120 pcs * box   \n",
       "328        348                  Mega 3 300's               300 cap * bot   \n",
       "65          75                Centrum Silver               285 tab * bot   \n",
       "707        754     1 cc 29G (Kenxin) Syringe               100 pcs * box   \n",
       "156        169               Paracetamol Ygn               100 tab * bot   \n",
       "596        634            Alcohol Pad Kenxin               100 pcs * box   \n",
       "155        168               Gelmag Pol ????                50 tab * bot   \n",
       "308        328  Butterfly Needle Hanako ????               100 pcs * box   \n",
       "780        833     1 cc 26G (Terumo) Syringe               100 pcs * box   \n",
       "19          21                        Optica                30 cap * bot   \n",
       "329        349                  Nuflam 300's               300 cap * bot   \n",
       "53          62              Protec Plus ????                30 tab * bot   \n",
       "498        531                        Enpott               500 tab * bot   \n",
       "70          80                  Coveram 10/5                30 tab * bot   \n",
       "48          57               Enervon-C 100's               100 tab * bot   \n",
       "305        325             5 cc (JY) Syringe               100 pcs * box   \n",
       "802        859                      PaiMetro       10 tab * 10 stp * box   \n",
       "736        784                Oramin C 100's               100 tab * bot   \n",
       "568        605                    Needle 21G               100 pcs * box   \n",
       "784        837                  C Pen (Zedi)                        Vial   \n",
       "334        354      Urgo Plaster Transparent               100 pcs * box   \n",
       "307        327         5 cc (Hanako) Syringe               100 pcs * box   \n",
       "211        229            Metro-250(Umedica)       10 tab * 10 stp * box   \n",
       "304        324            20 cc (JY) Syringe                50 pcs * box   \n",
       "778        831                       Tothema                20 amp * box   \n",
       "774        827                    Vinpotin 5        25 tab * 2 stp * box   \n",
       "485        515                       PadAmox       10 cap * 10 stp * box   \n",
       "339        359                 Shudi Plaster                10 pcs * box   \n",
       "366        387         ????????? ?????? ????  10 sac * 12 pack * 2ndPack   \n",
       "639        682                  Clobetamil G                        tube   \n",
       "570        607             Nuramin Forte inj                25 amp * box   \n",
       "332        352            Hansaplast Elastic               100 pcs * box   \n",
       "748        796    Exam Glove Supermax M Size               100 pcs * box   \n",
       "584        621                    Umetac inj                10 amp * stp   \n",
       "\n",
       "     Quantity  Unit  InvoiceCount  UnitsSoldPerInvoice  \n",
       "764    1000.0   tab             2           500.000000  \n",
       "793    2670.0   tab             9           296.666667  \n",
       "509    6421.0   tab            52           123.480769  \n",
       "666     761.0   tab             9            84.555556  \n",
       "458     960.0   cap            12            80.000000  \n",
       "291    3951.0   tab            56            70.553571  \n",
       "293     116.0   tab             2            58.000000  \n",
       "157    5093.0   tab           109            46.724771  \n",
       "148    1177.0   tab            26            45.269231  \n",
       "652     764.0   tab            17            44.941176  \n",
       "151    2161.0   tab            51            42.372549  \n",
       "159     330.0   tab             9            36.666667  \n",
       "110     165.0   tab             5            33.000000  \n",
       "604     130.0   cap             4            32.500000  \n",
       "330      60.0   cap             2            30.000000  \n",
       "344    2487.0   tab            83            29.963855  \n",
       "306     977.0   pcs            35            27.914286  \n",
       "328    4072.0   cap           146            27.890411  \n",
       "65     4474.0   tab           161            27.788820  \n",
       "707     109.0   pcs             4            27.250000  \n",
       "156    1898.0   tab            74            25.648649  \n",
       "596     532.0   pcs            22            24.181818  \n",
       "155     334.0   tab            17            19.647059  \n",
       "308     484.0   pcs            26            18.615385  \n",
       "780      87.0   pcs             5            17.400000  \n",
       "19     1128.0   cap            66            17.090909  \n",
       "329     305.0   cap            20            15.250000  \n",
       "53       88.0   tab             6            14.666667  \n",
       "498     200.0   tab            14            14.285714  \n",
       "70       40.0   tab             3            13.333333  \n",
       "48     3399.0   tab           259            13.123552  \n",
       "305    1013.0   pcs            80            12.662500  \n",
       "802     300.0   stp            25            12.000000  \n",
       "736     127.0   tab            12            10.583333  \n",
       "568      31.0   pcs             3            10.333333  \n",
       "784      20.0  Vial             2            10.000000  \n",
       "334     987.0   pcs           101             9.772277  \n",
       "307      97.0   pcs            11             8.818182  \n",
       "211     490.0   stp            58             8.448276  \n",
       "304     352.0   pcs            43             8.186047  \n",
       "778      40.0   amp             5             8.000000  \n",
       "774       8.0   box             1             8.000000  \n",
       "485     204.0   stp            27             7.555556  \n",
       "339     539.0   pcs            72             7.486111  \n",
       "366     708.0   sac            95             7.452632  \n",
       "639      52.0  tube             7             7.428571  \n",
       "570     260.0   amp            36             7.222222  \n",
       "332     892.0   pcs           126             7.079365  \n",
       "748      14.0   pcs             2             7.000000  \n",
       "584      94.0   amp            14             6.714286  "
      ]
     },
     "execution_count": 268,
     "metadata": {},
     "output_type": "execute_result"
    }
   ],
   "source": [
    "agg_explore_df.sort_values(['UnitsSoldPerInvoice','InvoiceCount'],ascending=False).head(50)"
   ]
  },
  {
   "cell_type": "code",
   "execution_count": 269,
   "id": "7c9df803-fe92-4e15-87ae-1bf6eba7c742",
   "metadata": {},
   "outputs": [
    {
     "data": {
      "text/html": [
       "<div>\n",
       "<style scoped>\n",
       "    .dataframe tbody tr th:only-of-type {\n",
       "        vertical-align: middle;\n",
       "    }\n",
       "\n",
       "    .dataframe tbody tr th {\n",
       "        vertical-align: top;\n",
       "    }\n",
       "\n",
       "    .dataframe thead th {\n",
       "        text-align: right;\n",
       "    }\n",
       "</style>\n",
       "<table border=\"1\" class=\"dataframe\">\n",
       "  <thead>\n",
       "    <tr style=\"text-align: right;\">\n",
       "      <th></th>\n",
       "      <th>ProductNo</th>\n",
       "      <th>Quantity</th>\n",
       "      <th>InvoiceNo</th>\n",
       "    </tr>\n",
       "  </thead>\n",
       "  <tbody>\n",
       "    <tr>\n",
       "      <th>count</th>\n",
       "      <td>873.000000</td>\n",
       "      <td>873.000000</td>\n",
       "      <td>873.000000</td>\n",
       "    </tr>\n",
       "    <tr>\n",
       "      <th>mean</th>\n",
       "      <td>466.523482</td>\n",
       "      <td>106.051115</td>\n",
       "      <td>26.116838</td>\n",
       "    </tr>\n",
       "    <tr>\n",
       "      <th>std</th>\n",
       "      <td>269.738231</td>\n",
       "      <td>432.964308</td>\n",
       "      <td>38.984737</td>\n",
       "    </tr>\n",
       "    <tr>\n",
       "      <th>min</th>\n",
       "      <td>1.000000</td>\n",
       "      <td>1.000000</td>\n",
       "      <td>1.000000</td>\n",
       "    </tr>\n",
       "    <tr>\n",
       "      <th>25%</th>\n",
       "      <td>236.000000</td>\n",
       "      <td>7.000000</td>\n",
       "      <td>5.000000</td>\n",
       "    </tr>\n",
       "    <tr>\n",
       "      <th>50%</th>\n",
       "      <td>463.000000</td>\n",
       "      <td>19.000000</td>\n",
       "      <td>12.000000</td>\n",
       "    </tr>\n",
       "    <tr>\n",
       "      <th>75%</th>\n",
       "      <td>699.000000</td>\n",
       "      <td>60.000000</td>\n",
       "      <td>31.000000</td>\n",
       "    </tr>\n",
       "    <tr>\n",
       "      <th>max</th>\n",
       "      <td>954.000000</td>\n",
       "      <td>6421.000000</td>\n",
       "      <td>360.000000</td>\n",
       "    </tr>\n",
       "  </tbody>\n",
       "</table>\n",
       "</div>"
      ],
      "text/plain": [
       "        ProductNo     Quantity   InvoiceNo\n",
       "count  873.000000   873.000000  873.000000\n",
       "mean   466.523482   106.051115   26.116838\n",
       "std    269.738231   432.964308   38.984737\n",
       "min      1.000000     1.000000    1.000000\n",
       "25%    236.000000     7.000000    5.000000\n",
       "50%    463.000000    19.000000   12.000000\n",
       "75%    699.000000    60.000000   31.000000\n",
       "max    954.000000  6421.000000  360.000000"
      ]
     },
     "execution_count": 269,
     "metadata": {},
     "output_type": "execute_result"
    }
   ],
   "source": [
    "agg.describe()"
   ]
  },
  {
   "cell_type": "code",
   "execution_count": null,
   "id": "caae1c34-1274-45e3-8a1e-2b4e4cf34a99",
   "metadata": {},
   "outputs": [],
   "source": []
  },
  {
   "cell_type": "markdown",
   "id": "2953ae63-461d-45f5-88da-4bb136b50d2f",
   "metadata": {},
   "source": [
    "### Frequency of Sales\n",
    "To analyze the frequency of sales by month and by week, we will transform InvoiceDate of oject datatype to datetime datatype and month, day, and weekday."
   ]
  },
  {
   "cell_type": "markdown",
   "id": "4c5e17de-9a7f-4019-a2f5-191db03b69ab",
   "metadata": {},
   "source": [
    "#### Frequency of Sales by Month"
   ]
  },
  {
   "cell_type": "code",
   "execution_count": 270,
   "id": "c2b0d133-847c-417f-a32c-ce7874669b5d",
   "metadata": {},
   "outputs": [],
   "source": [
    "sales_frequency_by_month_df=pd.DataFrame(df.groupby(['Month']).agg(\n",
    "    {\n",
    "        'MonthName':'first',\n",
    "        'InvoiceNo':'count'\n",
    "    }).sort_values('Month'))"
   ]
  },
  {
   "cell_type": "code",
   "execution_count": 271,
   "id": "e6f6c7fe-4db7-4a1a-881f-cc16fe8d07a2",
   "metadata": {},
   "outputs": [],
   "source": [
    "# sales_frequency_by_month_df"
   ]
  },
  {
   "cell_type": "code",
   "execution_count": 272,
   "id": "6d32f7b3-f83f-41a7-852e-357081b5ef42",
   "metadata": {},
   "outputs": [
    {
     "data": {
      "image/png": "[encoded data removed]",
      "text/plain": [
       "<Figure size 900x500 with 1 Axes>"
      ]
     },
     "metadata": {},
     "output_type": "display_data"
    }
   ],
   "source": [
    "plt.plot('MonthName','InvoiceNo',data=sales_frequency_by_month_df)\n",
    "plt.xticks(rotation=75)\n",
    "plt.xlabel('Month')\n",
    "plt.ylabel('Frequency')\n",
    "plt.title('Frequency of Sales by Month');"
   ]
  },
  {
   "cell_type": "markdown",
   "id": "fdbecf2a-c26a-45ca-9e10-964b1f57059f",
   "metadata": {},
   "source": [
    ">February is the most busiest month and November the least busiest of 2015."
   ]
  },
  {
   "cell_type": "markdown",
   "id": "6635e1c9-f48f-4f70-9c81-57218764fa85",
   "metadata": {},
   "source": [
    "#### Frequency of Sales by Weekday"
   ]
  },
  {
   "cell_type": "code",
   "execution_count": 273,
   "id": "14f17438-898e-4f78-81ff-93633eb05eb4",
   "metadata": {},
   "outputs": [],
   "source": [
    "sales_by_weekday=pd.DataFrame(df.groupby('WeekDay').agg(\n",
    "    {\n",
    "        'InvoiceNo': 'count',\n",
    "        'DayName': 'first'\n",
    "    }).sort_values('WeekDay'))\n",
    "# sales_by_weekday"
   ]
  },
  {
   "cell_type": "code",
   "execution_count": 274,
   "id": "55e271b4-bbd1-4ac8-a9c9-d71ff921f02a",
   "metadata": {},
   "outputs": [
    {
     "data": {
      "image/png": "[encoded data removed]",
      "text/plain": [
       "<Figure size 600x400 with 1 Axes>"
      ]
     },
     "metadata": {},
     "output_type": "display_data"
    }
   ],
   "source": [
    "plt.figure(figsize=(6,4))\n",
    "plt.plot('DayName','InvoiceNo',data=sales_by_weekday)\n",
    "plt.xticks(rotation=75)\n",
    "plt.xlabel('Weekday')\n",
    "plt.ylabel('Frequency')\n",
    "plt.title('Frequency of Sales by Weekday');"
   ]
  },
  {
   "cell_type": "markdown",
   "id": "262416fa-67f4-4544-89e8-b015862c480d",
   "metadata": {},
   "source": [
    ">Monday is the most busiest and Wednesday being the least busiest of the week."
   ]
  },
  {
   "cell_type": "code",
   "execution_count": 275,
   "id": "3a93323d-65f9-43b2-9719-e23c7c8eaf1b",
   "metadata": {},
   "outputs": [],
   "source": [
    "# frq_df.sort_values(['Quantity'], ascending=False)"
   ]
  },
  {
   "cell_type": "markdown",
   "id": "2cab269e-ad6d-4dae-8699-26d2407b7e15",
   "metadata": {},
   "source": [
    "### Frequency of Sales by Product"
   ]
  },
  {
   "cell_type": "code",
   "execution_count": 276,
   "id": "06e52443-414e-4ea9-871b-a33bfbda6510",
   "metadata": {},
   "outputs": [],
   "source": [
    "frq_df=pd.DataFrame(df.groupby(['ProductNo']).agg(\n",
    "    {\n",
    "        'ProductName':'first',\n",
    "        'PackSize':'first',\n",
    "        'Quantity':'sum',\n",
    "        'InvoiceNo':'count'\n",
    "    }).rename(columns={'InvoiceNo': 'InvoiceCount'}).sort_values(\n",
    "    ['InvoiceCount'], ascending=False))"
   ]
  },
  {
   "cell_type": "code",
   "execution_count": 277,
   "id": "596dc483-1c0e-4af3-bed7-3a3b8ca470f5",
   "metadata": {},
   "outputs": [],
   "source": [
    "# frq_df"
   ]
  },
  {
   "cell_type": "code",
   "execution_count": 278,
   "id": "4d6266f8-f5e0-457b-9ccc-1f1aaacb340d",
   "metadata": {},
   "outputs": [
    {
     "data": {
      "image/png": "[encoded data removed]",
      "text/plain": [
       "<Figure size 900x500 with 1 Axes>"
      ]
     },
     "metadata": {},
     "output_type": "display_data"
    }
   ],
   "source": [
    "sns.barplot(data=frq_df.head(15),x='InvoiceCount',y='ProductName')\n",
    "plt.xlabel('Frequency of Sales in 2015')\n",
    "plt.ylabel('Product Name')\n",
    "plt.title('The Most Frequent Sales of Product in 2015');"
   ]
  },
  {
   "cell_type": "markdown",
   "id": "722e7ba2-4a8e-4301-b304-ef18abb04590",
   "metadata": {},
   "source": [
    "### Top 10 Products with the Highest Risk of Expiry\n",
    "To manage inventory, we will calculate the risk of expiry of the products by using Quantity and InvoiceNo. The higher quantities in sales with lower frequencies of sales indicate higher risk of expiry of that product."
   ]
  },
  {
   "cell_type": "code",
   "execution_count": 279,
   "id": "9a054b09-524c-4c66-b57e-3867cb270a14",
   "metadata": {},
   "outputs": [],
   "source": [
    "# Calculate a risk metric: higher quantities with lower frequencies indicate higher risk\n",
    "frq_df['Risk'] = frq_df['Quantity'] / frq_df['InvoiceCount']\n",
    "\n",
    "# Sort by risk to identify the highest risk products\n",
    "frq_df = frq_df.sort_values(['Risk','ProductNo'], ascending=False)\n",
    "\n",
    "# Display the products with the highest risk\n",
    "# frq_df.head()"
   ]
  },
  {
   "cell_type": "code",
   "execution_count": 280,
   "id": "39dc935a-b584-473a-bb54-56a7439e9fd6",
   "metadata": {},
   "outputs": [
    {
     "data": {
      "image/png": "[encoded data removed]",
      "text/plain": [
       "<Figure size 900x500 with 1 Axes>"
      ]
     },
     "metadata": {},
     "output_type": "display_data"
    }
   ],
   "source": [
    "sns.barplot(data=frq_df.head(10),x='Risk',y='ProductName')\n",
    "plt.title('Top 10 Products with the Highest Risk of Expiry');"
   ]
  },
  {
   "cell_type": "code",
   "execution_count": null,
   "id": "e0b14af9-edc6-410f-a2c3-3b34ef90b508",
   "metadata": {},
   "outputs": [],
   "source": []
  },
  {
   "cell_type": "code",
   "execution_count": 281,
   "id": "a9f09bb5-5d5b-4cd3-ab50-20bd9a04deeb",
   "metadata": {},
   "outputs": [
    {
     "data": {
      "text/html": [
       "<div>\n",
       "<style scoped>\n",
       "    .dataframe tbody tr th:only-of-type {\n",
       "        vertical-align: middle;\n",
       "    }\n",
       "\n",
       "    .dataframe tbody tr th {\n",
       "        vertical-align: top;\n",
       "    }\n",
       "\n",
       "    .dataframe thead th {\n",
       "        text-align: right;\n",
       "    }\n",
       "</style>\n",
       "<table border=\"1\" class=\"dataframe\">\n",
       "  <thead>\n",
       "    <tr style=\"text-align: right;\">\n",
       "      <th></th>\n",
       "      <th>ProductNo</th>\n",
       "      <th>ProductName</th>\n",
       "      <th>Quantity</th>\n",
       "      <th>InvoiceCount</th>\n",
       "    </tr>\n",
       "  </thead>\n",
       "  <tbody>\n",
       "    <tr>\n",
       "      <th>0</th>\n",
       "      <td>1</td>\n",
       "      <td>EVE</td>\n",
       "      <td>47</td>\n",
       "      <td>41</td>\n",
       "    </tr>\n",
       "    <tr>\n",
       "      <th>1</th>\n",
       "      <td>2</td>\n",
       "      <td>Royal D</td>\n",
       "      <td>598</td>\n",
       "      <td>120</td>\n",
       "    </tr>\n",
       "    <tr>\n",
       "      <th>2</th>\n",
       "      <td>3</td>\n",
       "      <td>Eposoft</td>\n",
       "      <td>50</td>\n",
       "      <td>47</td>\n",
       "    </tr>\n",
       "    <tr>\n",
       "      <th>3</th>\n",
       "      <td>4</td>\n",
       "      <td>Enat 400</td>\n",
       "      <td>35</td>\n",
       "      <td>29</td>\n",
       "    </tr>\n",
       "    <tr>\n",
       "      <th>4</th>\n",
       "      <td>5</td>\n",
       "      <td>Vita-Kid</td>\n",
       "      <td>20</td>\n",
       "      <td>19</td>\n",
       "    </tr>\n",
       "    <tr>\n",
       "      <th>...</th>\n",
       "      <td>...</td>\n",
       "      <td>...</td>\n",
       "      <td>...</td>\n",
       "      <td>...</td>\n",
       "    </tr>\n",
       "    <tr>\n",
       "      <th>868</th>\n",
       "      <td>948</td>\n",
       "      <td>Zifam Clofen SR</td>\n",
       "      <td>1</td>\n",
       "      <td>1</td>\n",
       "    </tr>\n",
       "    <tr>\n",
       "      <th>869</th>\n",
       "      <td>949</td>\n",
       "      <td>Alerday 180</td>\n",
       "      <td>1</td>\n",
       "      <td>1</td>\n",
       "    </tr>\n",
       "    <tr>\n",
       "      <th>870</th>\n",
       "      <td>950</td>\n",
       "      <td>Metrogyl Syp</td>\n",
       "      <td>1</td>\n",
       "      <td>1</td>\n",
       "    </tr>\n",
       "    <tr>\n",
       "      <th>871</th>\n",
       "      <td>951</td>\n",
       "      <td>V.Rohto Cool</td>\n",
       "      <td>1</td>\n",
       "      <td>1</td>\n",
       "    </tr>\n",
       "    <tr>\n",
       "      <th>872</th>\n",
       "      <td>954</td>\n",
       "      <td>Tetracyclin Cap (AA)</td>\n",
       "      <td>2</td>\n",
       "      <td>1</td>\n",
       "    </tr>\n",
       "  </tbody>\n",
       "</table>\n",
       "<p>873 rows × 4 columns</p>\n",
       "</div>"
      ],
      "text/plain": [
       "     ProductNo           ProductName  Quantity  InvoiceCount\n",
       "0            1                   EVE        47            41\n",
       "1            2               Royal D       598           120\n",
       "2            3               Eposoft        50            47\n",
       "3            4              Enat 400        35            29\n",
       "4            5              Vita-Kid        20            19\n",
       "..         ...                   ...       ...           ...\n",
       "868        948       Zifam Clofen SR         1             1\n",
       "869        949           Alerday 180         1             1\n",
       "870        950          Metrogyl Syp         1             1\n",
       "871        951          V.Rohto Cool         1             1\n",
       "872        954  Tetracyclin Cap (AA)         2             1\n",
       "\n",
       "[873 rows x 4 columns]"
      ]
     },
     "execution_count": 281,
     "metadata": {},
     "output_type": "execute_result"
    }
   ],
   "source": [
    "grouped_df = pharma_df.groupby('ProductNo').agg({\n",
    "    'ProductName': 'first',\n",
    "    'Quantity': 'sum'\n",
    "}).reset_index()\n",
    "\n",
    "# Count occurrences of InvoiceNo\n",
    "invoice_counts = pharma_df['ProductNo'].value_counts().reset_index()\n",
    "invoice_counts.columns = ['ProductNo', 'InvoiceCount']\n",
    "\n",
    "# Merge the two results\n",
    "final_df = pd.merge(grouped_df, invoice_counts, on='ProductNo')\n",
    "\n",
    "final_df"
   ]
  },
  {
   "cell_type": "code",
   "execution_count": 282,
   "id": "a39a2e63-b575-4f9b-b88a-3d0f5e286f93",
   "metadata": {},
   "outputs": [],
   "source": [
    "pha_agg=pharma_df.groupby(['ProductNo', 'Unit']).agg({\n",
    "    'PackSize': 'first',\n",
    "    'ProductName': 'first',\n",
    "    'Quantity': 'sum'\n",
    "})\n"
   ]
  },
  {
   "cell_type": "code",
   "execution_count": 283,
   "id": "9e0762c7-a66d-4035-b5ac-7ad50732311f",
   "metadata": {},
   "outputs": [
    {
     "data": {
      "text/plain": [
       "pandas.core.frame.DataFrame"
      ]
     },
     "execution_count": 283,
     "metadata": {},
     "output_type": "execute_result"
    }
   ],
   "source": [
    "type(pha_agg)"
   ]
  },
  {
   "cell_type": "code",
   "execution_count": 284,
   "id": "d007cf30-6f98-4fa7-92ca-ae676f4d5994",
   "metadata": {},
   "outputs": [
    {
     "data": {
      "text/html": [
       "<div>\n",
       "<style scoped>\n",
       "    .dataframe tbody tr th:only-of-type {\n",
       "        vertical-align: middle;\n",
       "    }\n",
       "\n",
       "    .dataframe tbody tr th {\n",
       "        vertical-align: top;\n",
       "    }\n",
       "\n",
       "    .dataframe thead th {\n",
       "        text-align: right;\n",
       "    }\n",
       "</style>\n",
       "<table border=\"1\" class=\"dataframe\">\n",
       "  <thead>\n",
       "    <tr style=\"text-align: right;\">\n",
       "      <th></th>\n",
       "      <th></th>\n",
       "      <th>PackSize</th>\n",
       "      <th>ProductName</th>\n",
       "      <th>Quantity</th>\n",
       "    </tr>\n",
       "    <tr>\n",
       "      <th>ProductNo</th>\n",
       "      <th>Unit</th>\n",
       "      <th></th>\n",
       "      <th></th>\n",
       "      <th></th>\n",
       "    </tr>\n",
       "  </thead>\n",
       "  <tbody>\n",
       "    <tr>\n",
       "      <th rowspan=\"2\" valign=\"top\">1</th>\n",
       "      <th>box</th>\n",
       "      <td>10 cap * 3 stp * box</td>\n",
       "      <td>EVE</td>\n",
       "      <td>1</td>\n",
       "    </tr>\n",
       "    <tr>\n",
       "      <th>stp</th>\n",
       "      <td>10 cap * 3 stp * box</td>\n",
       "      <td>EVE</td>\n",
       "      <td>46</td>\n",
       "    </tr>\n",
       "    <tr>\n",
       "      <th rowspan=\"2\" valign=\"top\">2</th>\n",
       "      <th>box</th>\n",
       "      <td>50 sac * 20 box * 2ndBox</td>\n",
       "      <td>Royal D</td>\n",
       "      <td>1</td>\n",
       "    </tr>\n",
       "    <tr>\n",
       "      <th>sac</th>\n",
       "      <td>50 sac * 20 box * 2ndBox</td>\n",
       "      <td>Royal D</td>\n",
       "      <td>597</td>\n",
       "    </tr>\n",
       "    <tr>\n",
       "      <th>3</th>\n",
       "      <th>box</th>\n",
       "      <td>10 cap * 3 stp * box</td>\n",
       "      <td>Eposoft</td>\n",
       "      <td>9</td>\n",
       "    </tr>\n",
       "    <tr>\n",
       "      <th>...</th>\n",
       "      <th>...</th>\n",
       "      <td>...</td>\n",
       "      <td>...</td>\n",
       "      <td>...</td>\n",
       "    </tr>\n",
       "    <tr>\n",
       "      <th>948</th>\n",
       "      <th>stp</th>\n",
       "      <td>10 tab * 3 stp * 5 box * 2ndBox</td>\n",
       "      <td>Zifam Clofen SR</td>\n",
       "      <td>1</td>\n",
       "    </tr>\n",
       "    <tr>\n",
       "      <th>949</th>\n",
       "      <th>stp</th>\n",
       "      <td>10 tab * 10 stp * box</td>\n",
       "      <td>Alerday 180</td>\n",
       "      <td>1</td>\n",
       "    </tr>\n",
       "    <tr>\n",
       "      <th>950</th>\n",
       "      <th>bot</th>\n",
       "      <td>bot</td>\n",
       "      <td>Metrogyl Syp</td>\n",
       "      <td>1</td>\n",
       "    </tr>\n",
       "    <tr>\n",
       "      <th>951</th>\n",
       "      <th>bot</th>\n",
       "      <td>bot</td>\n",
       "      <td>V.Rohto Cool</td>\n",
       "      <td>1</td>\n",
       "    </tr>\n",
       "    <tr>\n",
       "      <th>954</th>\n",
       "      <th>stp</th>\n",
       "      <td>10 cap * 10 stp * box</td>\n",
       "      <td>Tetracyclin Cap (AA)</td>\n",
       "      <td>2</td>\n",
       "    </tr>\n",
       "  </tbody>\n",
       "</table>\n",
       "<p>1108 rows × 3 columns</p>\n",
       "</div>"
      ],
      "text/plain": [
       "                                       PackSize           ProductName  \\\n",
       "ProductNo Unit                                                          \n",
       "1         box              10 cap * 3 stp * box                   EVE   \n",
       "          stp              10 cap * 3 stp * box                   EVE   \n",
       "2         box          50 sac * 20 box * 2ndBox               Royal D   \n",
       "          sac          50 sac * 20 box * 2ndBox               Royal D   \n",
       "3         box              10 cap * 3 stp * box               Eposoft   \n",
       "...                                         ...                   ...   \n",
       "948       stp   10 tab * 3 stp * 5 box * 2ndBox       Zifam Clofen SR   \n",
       "949       stp             10 tab * 10 stp * box           Alerday 180   \n",
       "950       bot                               bot          Metrogyl Syp   \n",
       "951       bot                               bot          V.Rohto Cool   \n",
       "954       stp             10 cap * 10 stp * box  Tetracyclin Cap (AA)   \n",
       "\n",
       "                Quantity  \n",
       "ProductNo Unit            \n",
       "1         box          1  \n",
       "          stp         46  \n",
       "2         box          1  \n",
       "          sac        597  \n",
       "3         box          9  \n",
       "...                  ...  \n",
       "948       stp          1  \n",
       "949       stp          1  \n",
       "950       bot          1  \n",
       "951       bot          1  \n",
       "954       stp          2  \n",
       "\n",
       "[1108 rows x 3 columns]"
      ]
     },
     "execution_count": 284,
     "metadata": {},
     "output_type": "execute_result"
    }
   ],
   "source": [
    "pha_agg"
   ]
  },
  {
   "cell_type": "code",
   "execution_count": 285,
   "id": "e0e760a5-197b-429c-9774-d239d64d422b",
   "metadata": {},
   "outputs": [
    {
     "data": {
      "text/plain": [
       "MultiIndex([(  1, 'box'),\n",
       "            (  1, 'stp'),\n",
       "            (  2, 'box'),\n",
       "            (  2, 'sac'),\n",
       "            (  3, 'box'),\n",
       "            (  3, 'stp'),\n",
       "            (  4, 'box'),\n",
       "            (  4, 'stp'),\n",
       "            (  5, 'bot'),\n",
       "            (  6, 'bot'),\n",
       "            ...\n",
       "            (943, 'bot'),\n",
       "            (945, 'box'),\n",
       "            (945, 'stp'),\n",
       "            (946, 'stp'),\n",
       "            (947, 'stp'),\n",
       "            (948, 'stp'),\n",
       "            (949, 'stp'),\n",
       "            (950, 'bot'),\n",
       "            (951, 'bot'),\n",
       "            (954, 'stp')],\n",
       "           names=['ProductNo', 'Unit'], length=1108)"
      ]
     },
     "execution_count": 285,
     "metadata": {},
     "output_type": "execute_result"
    }
   ],
   "source": [
    "pha_agg.index"
   ]
  },
  {
   "cell_type": "code",
   "execution_count": 286,
   "id": "de605a23-f56d-4e0d-8373-62c73539daab",
   "metadata": {},
   "outputs": [
    {
     "data": {
      "image/png": "[encoded data removed]",
      "text/plain": [
       "<Figure size 900x500 with 1 Axes>"
      ]
     },
     "metadata": {},
     "output_type": "display_data"
    }
   ],
   "source": [
    "# Group by Unit and sum quantities sold\n",
    "sales_by_unit = pharma_df.groupby('Unit').agg({'Quantity': 'sum'}).sort_values('Quantity', ascending=False)\n",
    "\n",
    "sales_by_unit.plot(kind='bar')\n",
    "plt.title('Sales by Unit Type in 2015')\n",
    "plt.xlabel('Unit Type')\n",
    "plt.ylabel('Quantity Sold')\n",
    "plt.show()\n"
   ]
  },
  {
   "cell_type": "code",
   "execution_count": null,
   "id": "88e40c1b-d3f5-44ad-bda1-01e478a44520",
   "metadata": {},
   "outputs": [],
   "source": []
  },
  {
   "cell_type": "code",
   "execution_count": 287,
   "id": "db4ed884-3cf2-4db3-9e7a-eda04a831039",
   "metadata": {},
   "outputs": [],
   "source": [
    "pack='50 sac * 20 box * 2ndBox'"
   ]
  },
  {
   "cell_type": "code",
   "execution_count": 288,
   "id": "a7d573ee-a2de-4c1d-9971-9f2abeb85522",
   "metadata": {},
   "outputs": [],
   "source": [
    "from_unit='box'\n",
    "from_qty=1500\n",
    "to_unit='sac'"
   ]
  },
  {
   "cell_type": "code",
   "execution_count": 289,
   "id": "27bcf11d-d1e5-47e4-8ede-2eea34a84271",
   "metadata": {},
   "outputs": [
    {
     "data": {
      "text/plain": [
       "[(50, 'sac'), (20, 'box'), (1, '2ndBox')]"
      ]
     },
     "execution_count": 289,
     "metadata": {},
     "output_type": "execute_result"
    }
   ],
   "source": [
    "conversion_table(pack)"
   ]
  },
  {
   "cell_type": "code",
   "execution_count": 290,
   "id": "d523ac43-5d58-4297-9125-e4c3078351ee",
   "metadata": {},
   "outputs": [
    {
     "name": "stdout",
     "output_type": "stream",
     "text": [
      "0\n",
      "1\n",
      "2\n"
     ]
    }
   ],
   "source": [
    "for i,item in enumerate(conversion_table(pack)):\n",
    "    print (i)"
   ]
  },
  {
   "cell_type": "code",
   "execution_count": 291,
   "id": "dda3397d-4f3c-47f1-b516-1bfd3239746a",
   "metadata": {},
   "outputs": [],
   "source": [
    "q,u=convert(from_qty,from_unit,to_unit,pack)"
   ]
  },
  {
   "cell_type": "code",
   "execution_count": 292,
   "id": "f60ea31f-f712-4605-881d-09fc96ae9210",
   "metadata": {},
   "outputs": [
    {
     "name": "stdout",
     "output_type": "stream",
     "text": [
      "1500 box = 75000 sac (50 sac * 20 box * 2ndBox)\n"
     ]
    }
   ],
   "source": [
    "print('{} {} = {} {} ({})'.format(from_qty,from_unit,q,u,pack))"
   ]
  },
  {
   "cell_type": "code",
   "execution_count": 293,
   "id": "90a6c8d3-c263-4b8e-b62f-7fc3a5f89ed7",
   "metadata": {},
   "outputs": [
    {
     "data": {
      "text/plain": [
       "1500000"
      ]
     },
     "execution_count": 293,
     "metadata": {},
     "output_type": "execute_result"
    }
   ],
   "source": [
    "1500*20*50"
   ]
  },
  {
   "cell_type": "markdown",
   "id": "7800e4ac-98e5-40d7-bf23-5a425cecf661",
   "metadata": {
    "editable": true,
    "slideshow": {
     "slide_type": ""
    },
    "tags": []
   },
   "source": [
    "$\\frac{1}{12}=\\frac{?}{500000}$"
   ]
  },
  {
   "cell_type": "code",
   "execution_count": 294,
   "id": "386c0bfc-1d35-41cf-be1f-08166b77acfd",
   "metadata": {},
   "outputs": [
    {
     "data": {
      "text/plain": [
       "41666.666666666664"
      ]
     },
     "execution_count": 294,
     "metadata": {},
     "output_type": "execute_result"
    }
   ],
   "source": [
    "500000/12"
   ]
  },
  {
   "cell_type": "markdown",
   "id": "807550b2-538a-41fe-9b0c-61405f002ebd",
   "metadata": {},
   "source": [
    "## Test"
   ]
  },
  {
   "cell_type": "code",
   "execution_count": 295,
   "id": "12f4f2d2-edd7-4865-85fb-4c9dbb08c15e",
   "metadata": {},
   "outputs": [],
   "source": [
    "import pandas as pd\n",
    "\n",
    "productNo = [1, 1, 2, 2, 3]\n",
    "productName = ['EVE', 'EVE', 'Royal D', 'Royal D', 'Eposoft']\n",
    "qty = [1, 30, 1, 250, 9]\n",
    "unit = ['box', 'stp', 'box', 'sac', 'box']\n",
    "pack = ['10 cap * 3 stp * box', '10 cap * 3 stp * box', '50 sac * 20 box * 2ndBox', '50 sac * 20 box * 2ndBox', '10 cap * 3 stp * box']\n",
    "invoiceCount = [1, 40, 1, 119, 9]\n",
    "\n",
    "df = pd.DataFrame({\n",
    "    'ProductNo': pd.Series(productNo),\n",
    "    'ProductName': pd.Series(productName),\n",
    "    'Quantity': qty,\n",
    "    'Unit': unit,\n",
    "    'PackSize': pack,\n",
    "    'InvoiceCount': pd.Series(invoiceCount)\n",
    "})\n"
   ]
  },
  {
   "cell_type": "code",
   "execution_count": 296,
   "id": "e30392fc-3901-4bed-89d5-641925a40e7c",
   "metadata": {},
   "outputs": [],
   "source": [
    "idx = df.groupby(['ProductNo'])['InvoiceCount'].idxmax()\n",
    "frequent_units = df.loc[idx, ['ProductNo', 'ProductName', 'Unit']].rename(columns={'Unit': 'FrequentUnit'})\n"
   ]
  },
  {
   "cell_type": "code",
   "execution_count": 297,
   "id": "de3b9be2-2d43-4513-8ffb-422ad010dcce",
   "metadata": {},
   "outputs": [],
   "source": [
    "df = df.merge(frequent_units, on=['ProductNo', 'ProductName'])\n"
   ]
  },
  {
   "cell_type": "code",
   "execution_count": 298,
   "id": "9a24ed55-adaf-41ba-8186-9556971fdc22",
   "metadata": {},
   "outputs": [],
   "source": [
    "def apply_conversion(row):\n",
    "    if row['Unit'] != row['FrequentUnit']:\n",
    "        # new_qty, new_unit = convert(row['Quantity'], row['Unit'], row['FrequentUnit'], row['PackSize'])\n",
    "        # row['Quantity'] = new_qty\n",
    "        # row['Unit'] = new_unit\n",
    "        row['Quantity'], row['Unit'] = convert(row['Quantity'], row['Unit'], row['FrequentUnit'], row['PackSize'])\n",
    "    return row\n"
   ]
  },
  {
   "cell_type": "code",
   "execution_count": 299,
   "id": "cc3d9dec-117e-46e9-8336-49049a289047",
   "metadata": {},
   "outputs": [
    {
     "name": "stdout",
     "output_type": "stream",
     "text": [
      "   ProductNo ProductName  Quantity Unit                  PackSize  \\\n",
      "0          1         EVE         3  stp      10 cap * 3 stp * box   \n",
      "1          1         EVE        30  stp      10 cap * 3 stp * box   \n",
      "2          2     Royal D        50  sac  50 sac * 20 box * 2ndBox   \n",
      "3          2     Royal D       250  sac  50 sac * 20 box * 2ndBox   \n",
      "4          3     Eposoft         9  box      10 cap * 3 stp * box   \n",
      "\n",
      "   InvoiceCount FrequentUnit  \n",
      "0             1          stp  \n",
      "1            40          stp  \n",
      "2             1          sac  \n",
      "3           119          sac  \n",
      "4             9          box  \n"
     ]
    }
   ],
   "source": [
    "df = df.apply(apply_conversion, axis=1)\n",
    "print(df)\n"
   ]
  },
  {
   "cell_type": "code",
   "execution_count": null,
   "id": "8e7db823-2f1b-4076-bebf-a0e48057d1e3",
   "metadata": {},
   "outputs": [],
   "source": []
  }
 ],
 "metadata": {
  "kernelspec": {
   "display_name": "Python 3 (ipykernel)",
   "language": "python",
   "name": "python3"
  },
  "language_info": {
   "codemirror_mode": {
    "name": "ipython",
    "version": 3
   },
   "file_extension": ".py",
   "mimetype": "text/x-python",
   "name": "python",
   "nbconvert_exporter": "python",
   "pygments_lexer": "ipython3",
   "version": "3.12.5"
  }
 },
 "nbformat": 4,
 "nbformat_minor": 5
}
